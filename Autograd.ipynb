{
  "nbformat": 4,
  "nbformat_minor": 0,
  "metadata": {
    "colab": {
      "provenance": [],
      "authorship_tag": "ABX9TyMhxeYIfJmrjqRqitx7nevt",
      "include_colab_link": true
    },
    "kernelspec": {
      "name": "ir",
      "display_name": "R"
    },
    "language_info": {
      "name": "R"
    }
  },
  "cells": [
    {
      "cell_type": "markdown",
      "metadata": {
        "id": "view-in-github",
        "colab_type": "text"
      },
      "source": [
        "<a href=\"https://colab.research.google.com/github/StefanHubner/MachineLearningEconomics/blob/main/Autograd.ipynb\" target=\"_parent\"><img src=\"https://colab.research.google.com/assets/colab-badge.svg\" alt=\"Open In Colab\"/></a>"
      ]
    },
    {
      "cell_type": "code",
      "execution_count": 1,
      "metadata": {
        "id": "qFIjTLPRy4Vb",
        "colab": {
          "base_uri": "https://localhost:8080/"
        },
        "outputId": "73e1ac26-a361-43fe-d147-a0d6216373dd"
      },
      "outputs": [
        {
          "output_type": "stream",
          "name": "stderr",
          "text": [
            "Installing package into ‘/usr/local/lib/R/site-library’\n",
            "(as ‘lib’ is unspecified)\n",
            "\n",
            "also installing the dependencies ‘Rcpp’, ‘coro’\n",
            "\n",
            "\n"
          ]
        }
      ],
      "source": [
        "# This takes about 9-10 minutes\n",
        "\n",
        "Sys.setenv(\"CUDA\" = \"cpu\")\n",
        "Sys.setenv(\"TORCH_INSTALL\" = \"1\")\n",
        "install.packages(\"torch\", reinstall = FALSE)\n",
        "torch::install_torch()"
      ]
    },
    {
      "cell_type": "code",
      "source": [
        "install.packages(\"ISLR\")\n",
        "install.packages(\"IRdisplay\")\n",
        "\n",
        "library(IRdisplay)\n",
        "library(ISLR)\n",
        "\n",
        "data(\"Default\")\n",
        "Default$default1 <- as.double(Default$default == \"Yes\")\n",
        "\n",
        "n <- nrow(Default)\n",
        "traini <- sample(1:n, n/2)\n",
        "testi <- -traini\n",
        "\n",
        "train <- Default[traini,]"
      ],
      "metadata": {
        "colab": {
          "base_uri": "https://localhost:8080/"
        },
        "id": "x03-U1a1LagB",
        "outputId": "b7ea05cf-13e8-4de5-efda-5728b7ebbe5c"
      },
      "execution_count": 5,
      "outputs": [
        {
          "output_type": "stream",
          "name": "stderr",
          "text": [
            "Installing package into ‘/usr/local/lib/R/site-library’\n",
            "(as ‘lib’ is unspecified)\n",
            "\n"
          ]
        }
      ]
    },
    {
      "cell_type": "code",
      "source": [
        "library(torch)\n",
        "\n",
        "x1x2 <- cbind(1, as.matrix(train[,c(\"balance\", \"income\")])/1000)\n",
        "y1 <- train$default1\n",
        "\n",
        "Sys.setenv(\"CUDA\" = \"cuda\")\n",
        "# by default it will use the CPU, cuda refers to the GPU\n",
        "dev <- ifelse(cuda_is_available(), \"cuda\", \"cpu\")\n",
        "cat(paste0(\"Running on: \", dev))"
      ],
      "metadata": {
        "id": "ByamPjv9zC8l",
        "colab": {
          "base_uri": "https://localhost:8080/"
        },
        "outputId": "97a18a82-f284-4be7-818f-40b02fb66433"
      },
      "execution_count": 6,
      "outputs": [
        {
          "output_type": "stream",
          "name": "stdout",
          "text": [
            "Running on: cpu"
          ]
        }
      ]
    },
    {
      "cell_type": "code",
      "source": [
        "y <- torch_tensor(y1, dtype = torch_float64(), requires_grad = TRUE)$view(c(-1, 1))\n",
        "x <- torch_tensor(x1x2, dtype = torch_float64(), requires_grad = TRUE)\n",
        "beta <- torch_randn(3, 1, dtype = torch_float64(), requires_grad = TRUE)\n",
        "beta <- torch_zeros(3, 1, dtype = torch_float64(), requires_grad = TRUE)\n",
        "\n",
        "\n",
        "y$shape\n",
        "x$shape\n",
        "beta$shape"
      ],
      "metadata": {
        "id": "2pcCvhDwzGcl",
        "colab": {
          "base_uri": "https://localhost:8080/",
          "height": 69
        },
        "outputId": "cdc691dd-8313-40ea-a8ee-3171ff4fa1d3"
      },
      "execution_count": 27,
      "outputs": [
        {
          "output_type": "display_data",
          "data": {
            "text/html": [
              "<style>\n",
              ".list-inline {list-style: none; margin:0; padding: 0}\n",
              ".list-inline>li {display: inline-block}\n",
              ".list-inline>li:not(:last-child)::after {content: \"\\00b7\"; padding: 0 .5ex}\n",
              "</style>\n",
              "<ol class=list-inline><li>5000</li><li>1</li></ol>\n"
            ],
            "text/markdown": "1. 5000\n2. 1\n\n\n",
            "text/latex": "\\begin{enumerate*}\n\\item 5000\n\\item 1\n\\end{enumerate*}\n",
            "text/plain": [
              "[1] 5000    1"
            ]
          },
          "metadata": {}
        },
        {
          "output_type": "display_data",
          "data": {
            "text/html": [
              "<style>\n",
              ".list-inline {list-style: none; margin:0; padding: 0}\n",
              ".list-inline>li {display: inline-block}\n",
              ".list-inline>li:not(:last-child)::after {content: \"\\00b7\"; padding: 0 .5ex}\n",
              "</style>\n",
              "<ol class=list-inline><li>5000</li><li>3</li></ol>\n"
            ],
            "text/markdown": "1. 5000\n2. 3\n\n\n",
            "text/latex": "\\begin{enumerate*}\n\\item 5000\n\\item 3\n\\end{enumerate*}\n",
            "text/plain": [
              "[1] 5000    3"
            ]
          },
          "metadata": {}
        },
        {
          "output_type": "display_data",
          "data": {
            "text/html": [
              "<style>\n",
              ".list-inline {list-style: none; margin:0; padding: 0}\n",
              ".list-inline>li {display: inline-block}\n",
              ".list-inline>li:not(:last-child)::after {content: \"\\00b7\"; padding: 0 .5ex}\n",
              "</style>\n",
              "<ol class=list-inline><li>3</li><li>1</li></ol>\n"
            ],
            "text/markdown": "1. 3\n2. 1\n\n\n",
            "text/latex": "\\begin{enumerate*}\n\\item 3\n\\item 1\n\\end{enumerate*}\n",
            "text/plain": [
              "[1] 3 1"
            ]
          },
          "metadata": {}
        }
      ]
    },
    {
      "cell_type": "code",
      "source": [
        "beta <- torch_zeros(3, 1, dtype = torch_float64(), requires_grad = TRUE)\n",
        "\n",
        "# Define loss function: likelihood (sometimes called binary cross-entropy in ML context)\n",
        "ll <- function(beta) {\n",
        "  xbhat <- torch_mm(x, beta)\n",
        "  yhat <- torch_sigmoid(xbhat)\n",
        "  loss <- -torch_sum(y * torch_log(yhat) + (1 - y) * torch_log(1 - yhat))\n",
        "  loss\n",
        "}\n",
        "\n",
        "optimizer <- optim_lbfgs(beta, lr = .08)\n",
        "\n",
        "# A 'closure', i.e. the code that is run in each step of the optimiser\n",
        "calc_loss <- function() {\n",
        "  optimizer$zero_grad()\n",
        "  value <- ll(beta)\n",
        "  value$backward()\n",
        "  #nn_utils_clip_grad_value_(beta, 20)\n",
        "  value\n",
        "}"
      ],
      "metadata": {
        "id": "B9gfXrlDZL8x"
      },
      "execution_count": 42,
      "outputs": []
    },
    {
      "cell_type": "code",
      "source": [
        "for (i in 1:100) {\n",
        "  logl <- optimizer$step(calc_loss) # 20 internal iterations per step\n",
        "  display_html(sprintf(\"<tt>%d: %f</tt>\", i, as.numeric(logl$detach())))\n",
        "}"
      ],
      "metadata": {
        "id": "R_rfoVRJzIte",
        "colab": {
          "base_uri": "https://localhost:8080/",
          "height": 1000
        },
        "outputId": "c89f8643-a5a3-4289-e7ff-704944fd1f3b"
      },
      "execution_count": 43,
      "outputs": [
        {
          "output_type": "display_data",
          "data": {
            "text/html": [
              "<tt>1: 3465.735903</tt>"
            ]
          },
          "metadata": {}
        },
        {
          "output_type": "display_data",
          "data": {
            "text/html": [
              "<tt>2: 906.784784</tt>"
            ]
          },
          "metadata": {}
        },
        {
          "output_type": "display_data",
          "data": {
            "text/html": [
              "<tt>3: 897.677945</tt>"
            ]
          },
          "metadata": {}
        },
        {
          "output_type": "display_data",
          "data": {
            "text/html": [
              "<tt>4: 888.730315</tt>"
            ]
          },
          "metadata": {}
        },
        {
          "output_type": "display_data",
          "data": {
            "text/html": [
              "<tt>5: 792.461351</tt>"
            ]
          },
          "metadata": {}
        },
        {
          "output_type": "display_data",
          "data": {
            "text/html": [
              "<tt>6: 400.576358</tt>"
            ]
          },
          "metadata": {}
        },
        {
          "output_type": "display_data",
          "data": {
            "text/html": [
              "<tt>7: 387.309117</tt>"
            ]
          },
          "metadata": {}
        },
        {
          "output_type": "display_data",
          "data": {
            "text/html": [
              "<tt>8: 386.351626</tt>"
            ]
          },
          "metadata": {}
        },
        {
          "output_type": "display_data",
          "data": {
            "text/html": [
              "<tt>9: 385.121786</tt>"
            ]
          },
          "metadata": {}
        },
        {
          "output_type": "display_data",
          "data": {
            "text/html": [
              "<tt>10: 384.718822</tt>"
            ]
          },
          "metadata": {}
        },
        {
          "output_type": "display_data",
          "data": {
            "text/html": [
              "<tt>11: 384.702857</tt>"
            ]
          },
          "metadata": {}
        },
        {
          "output_type": "display_data",
          "data": {
            "text/html": [
              "<tt>12: 384.702287</tt>"
            ]
          },
          "metadata": {}
        },
        {
          "output_type": "display_data",
          "data": {
            "text/html": [
              "<tt>13: 384.702267</tt>"
            ]
          },
          "metadata": {}
        },
        {
          "output_type": "display_data",
          "data": {
            "text/html": [
              "<tt>14: 384.702266</tt>"
            ]
          },
          "metadata": {}
        },
        {
          "output_type": "display_data",
          "data": {
            "text/html": [
              "<tt>15: 384.702266</tt>"
            ]
          },
          "metadata": {}
        },
        {
          "output_type": "display_data",
          "data": {
            "text/html": [
              "<tt>16: 384.702266</tt>"
            ]
          },
          "metadata": {}
        },
        {
          "output_type": "display_data",
          "data": {
            "text/html": [
              "<tt>17: 384.702266</tt>"
            ]
          },
          "metadata": {}
        },
        {
          "output_type": "display_data",
          "data": {
            "text/html": [
              "<tt>18: 384.702266</tt>"
            ]
          },
          "metadata": {}
        },
        {
          "output_type": "display_data",
          "data": {
            "text/html": [
              "<tt>19: 384.702266</tt>"
            ]
          },
          "metadata": {}
        },
        {
          "output_type": "display_data",
          "data": {
            "text/html": [
              "<tt>20: 384.702266</tt>"
            ]
          },
          "metadata": {}
        },
        {
          "output_type": "display_data",
          "data": {
            "text/html": [
              "<tt>21: 384.702266</tt>"
            ]
          },
          "metadata": {}
        },
        {
          "output_type": "display_data",
          "data": {
            "text/html": [
              "<tt>22: 384.702266</tt>"
            ]
          },
          "metadata": {}
        },
        {
          "output_type": "display_data",
          "data": {
            "text/html": [
              "<tt>23: 384.702266</tt>"
            ]
          },
          "metadata": {}
        },
        {
          "output_type": "display_data",
          "data": {
            "text/html": [
              "<tt>24: 384.702266</tt>"
            ]
          },
          "metadata": {}
        },
        {
          "output_type": "display_data",
          "data": {
            "text/html": [
              "<tt>25: 384.702266</tt>"
            ]
          },
          "metadata": {}
        },
        {
          "output_type": "display_data",
          "data": {
            "text/html": [
              "<tt>26: 384.702266</tt>"
            ]
          },
          "metadata": {}
        },
        {
          "output_type": "display_data",
          "data": {
            "text/html": [
              "<tt>27: 384.702266</tt>"
            ]
          },
          "metadata": {}
        },
        {
          "output_type": "display_data",
          "data": {
            "text/html": [
              "<tt>28: 384.702266</tt>"
            ]
          },
          "metadata": {}
        },
        {
          "output_type": "display_data",
          "data": {
            "text/html": [
              "<tt>29: 384.702266</tt>"
            ]
          },
          "metadata": {}
        },
        {
          "output_type": "display_data",
          "data": {
            "text/html": [
              "<tt>30: 384.702266</tt>"
            ]
          },
          "metadata": {}
        },
        {
          "output_type": "display_data",
          "data": {
            "text/html": [
              "<tt>31: 384.702266</tt>"
            ]
          },
          "metadata": {}
        },
        {
          "output_type": "display_data",
          "data": {
            "text/html": [
              "<tt>32: 384.702266</tt>"
            ]
          },
          "metadata": {}
        },
        {
          "output_type": "display_data",
          "data": {
            "text/html": [
              "<tt>33: 384.702266</tt>"
            ]
          },
          "metadata": {}
        },
        {
          "output_type": "display_data",
          "data": {
            "text/html": [
              "<tt>34: 384.702266</tt>"
            ]
          },
          "metadata": {}
        },
        {
          "output_type": "display_data",
          "data": {
            "text/html": [
              "<tt>35: 384.702266</tt>"
            ]
          },
          "metadata": {}
        },
        {
          "output_type": "display_data",
          "data": {
            "text/html": [
              "<tt>36: 384.702266</tt>"
            ]
          },
          "metadata": {}
        },
        {
          "output_type": "display_data",
          "data": {
            "text/html": [
              "<tt>37: 384.702266</tt>"
            ]
          },
          "metadata": {}
        },
        {
          "output_type": "display_data",
          "data": {
            "text/html": [
              "<tt>38: 384.702266</tt>"
            ]
          },
          "metadata": {}
        },
        {
          "output_type": "display_data",
          "data": {
            "text/html": [
              "<tt>39: 384.702266</tt>"
            ]
          },
          "metadata": {}
        },
        {
          "output_type": "display_data",
          "data": {
            "text/html": [
              "<tt>40: 384.702266</tt>"
            ]
          },
          "metadata": {}
        },
        {
          "output_type": "display_data",
          "data": {
            "text/html": [
              "<tt>41: 384.702266</tt>"
            ]
          },
          "metadata": {}
        },
        {
          "output_type": "display_data",
          "data": {
            "text/html": [
              "<tt>42: 384.702266</tt>"
            ]
          },
          "metadata": {}
        },
        {
          "output_type": "display_data",
          "data": {
            "text/html": [
              "<tt>43: 384.702266</tt>"
            ]
          },
          "metadata": {}
        },
        {
          "output_type": "display_data",
          "data": {
            "text/html": [
              "<tt>44: 384.702266</tt>"
            ]
          },
          "metadata": {}
        },
        {
          "output_type": "display_data",
          "data": {
            "text/html": [
              "<tt>45: 384.702266</tt>"
            ]
          },
          "metadata": {}
        },
        {
          "output_type": "display_data",
          "data": {
            "text/html": [
              "<tt>46: 384.702266</tt>"
            ]
          },
          "metadata": {}
        },
        {
          "output_type": "display_data",
          "data": {
            "text/html": [
              "<tt>47: 384.702266</tt>"
            ]
          },
          "metadata": {}
        },
        {
          "output_type": "display_data",
          "data": {
            "text/html": [
              "<tt>48: 384.702266</tt>"
            ]
          },
          "metadata": {}
        },
        {
          "output_type": "display_data",
          "data": {
            "text/html": [
              "<tt>49: 384.702266</tt>"
            ]
          },
          "metadata": {}
        },
        {
          "output_type": "display_data",
          "data": {
            "text/html": [
              "<tt>50: 384.702266</tt>"
            ]
          },
          "metadata": {}
        },
        {
          "output_type": "display_data",
          "data": {
            "text/html": [
              "<tt>51: 384.702266</tt>"
            ]
          },
          "metadata": {}
        },
        {
          "output_type": "display_data",
          "data": {
            "text/html": [
              "<tt>52: 384.702266</tt>"
            ]
          },
          "metadata": {}
        },
        {
          "output_type": "display_data",
          "data": {
            "text/html": [
              "<tt>53: 384.702266</tt>"
            ]
          },
          "metadata": {}
        },
        {
          "output_type": "display_data",
          "data": {
            "text/html": [
              "<tt>54: 384.702266</tt>"
            ]
          },
          "metadata": {}
        },
        {
          "output_type": "display_data",
          "data": {
            "text/html": [
              "<tt>55: 384.702266</tt>"
            ]
          },
          "metadata": {}
        },
        {
          "output_type": "display_data",
          "data": {
            "text/html": [
              "<tt>56: 384.702266</tt>"
            ]
          },
          "metadata": {}
        },
        {
          "output_type": "display_data",
          "data": {
            "text/html": [
              "<tt>57: 384.702266</tt>"
            ]
          },
          "metadata": {}
        },
        {
          "output_type": "display_data",
          "data": {
            "text/html": [
              "<tt>58: 384.702266</tt>"
            ]
          },
          "metadata": {}
        },
        {
          "output_type": "display_data",
          "data": {
            "text/html": [
              "<tt>59: 384.702266</tt>"
            ]
          },
          "metadata": {}
        },
        {
          "output_type": "display_data",
          "data": {
            "text/html": [
              "<tt>60: 384.702266</tt>"
            ]
          },
          "metadata": {}
        },
        {
          "output_type": "display_data",
          "data": {
            "text/html": [
              "<tt>61: 384.702266</tt>"
            ]
          },
          "metadata": {}
        },
        {
          "output_type": "display_data",
          "data": {
            "text/html": [
              "<tt>62: 384.702266</tt>"
            ]
          },
          "metadata": {}
        },
        {
          "output_type": "display_data",
          "data": {
            "text/html": [
              "<tt>63: 384.702266</tt>"
            ]
          },
          "metadata": {}
        },
        {
          "output_type": "display_data",
          "data": {
            "text/html": [
              "<tt>64: 384.702266</tt>"
            ]
          },
          "metadata": {}
        },
        {
          "output_type": "display_data",
          "data": {
            "text/html": [
              "<tt>65: 384.702266</tt>"
            ]
          },
          "metadata": {}
        },
        {
          "output_type": "display_data",
          "data": {
            "text/html": [
              "<tt>66: 384.702266</tt>"
            ]
          },
          "metadata": {}
        },
        {
          "output_type": "display_data",
          "data": {
            "text/html": [
              "<tt>67: 384.702266</tt>"
            ]
          },
          "metadata": {}
        },
        {
          "output_type": "display_data",
          "data": {
            "text/html": [
              "<tt>68: 384.702266</tt>"
            ]
          },
          "metadata": {}
        },
        {
          "output_type": "display_data",
          "data": {
            "text/html": [
              "<tt>69: 384.702266</tt>"
            ]
          },
          "metadata": {}
        },
        {
          "output_type": "display_data",
          "data": {
            "text/html": [
              "<tt>70: 384.702266</tt>"
            ]
          },
          "metadata": {}
        },
        {
          "output_type": "display_data",
          "data": {
            "text/html": [
              "<tt>71: 384.702266</tt>"
            ]
          },
          "metadata": {}
        },
        {
          "output_type": "display_data",
          "data": {
            "text/html": [
              "<tt>72: 384.702266</tt>"
            ]
          },
          "metadata": {}
        },
        {
          "output_type": "display_data",
          "data": {
            "text/html": [
              "<tt>73: 384.702266</tt>"
            ]
          },
          "metadata": {}
        },
        {
          "output_type": "display_data",
          "data": {
            "text/html": [
              "<tt>74: 384.702266</tt>"
            ]
          },
          "metadata": {}
        },
        {
          "output_type": "display_data",
          "data": {
            "text/html": [
              "<tt>75: 384.702266</tt>"
            ]
          },
          "metadata": {}
        },
        {
          "output_type": "display_data",
          "data": {
            "text/html": [
              "<tt>76: 384.702266</tt>"
            ]
          },
          "metadata": {}
        },
        {
          "output_type": "display_data",
          "data": {
            "text/html": [
              "<tt>77: 384.702266</tt>"
            ]
          },
          "metadata": {}
        },
        {
          "output_type": "display_data",
          "data": {
            "text/html": [
              "<tt>78: 384.702266</tt>"
            ]
          },
          "metadata": {}
        },
        {
          "output_type": "display_data",
          "data": {
            "text/html": [
              "<tt>79: 384.702266</tt>"
            ]
          },
          "metadata": {}
        },
        {
          "output_type": "display_data",
          "data": {
            "text/html": [
              "<tt>80: 384.702266</tt>"
            ]
          },
          "metadata": {}
        },
        {
          "output_type": "display_data",
          "data": {
            "text/html": [
              "<tt>81: 384.702266</tt>"
            ]
          },
          "metadata": {}
        },
        {
          "output_type": "display_data",
          "data": {
            "text/html": [
              "<tt>82: 384.702266</tt>"
            ]
          },
          "metadata": {}
        },
        {
          "output_type": "display_data",
          "data": {
            "text/html": [
              "<tt>83: 384.702266</tt>"
            ]
          },
          "metadata": {}
        },
        {
          "output_type": "display_data",
          "data": {
            "text/html": [
              "<tt>84: 384.702266</tt>"
            ]
          },
          "metadata": {}
        },
        {
          "output_type": "display_data",
          "data": {
            "text/html": [
              "<tt>85: 384.702266</tt>"
            ]
          },
          "metadata": {}
        },
        {
          "output_type": "display_data",
          "data": {
            "text/html": [
              "<tt>86: 384.702266</tt>"
            ]
          },
          "metadata": {}
        },
        {
          "output_type": "display_data",
          "data": {
            "text/html": [
              "<tt>87: 384.702266</tt>"
            ]
          },
          "metadata": {}
        },
        {
          "output_type": "display_data",
          "data": {
            "text/html": [
              "<tt>88: 384.702266</tt>"
            ]
          },
          "metadata": {}
        },
        {
          "output_type": "display_data",
          "data": {
            "text/html": [
              "<tt>89: 384.702266</tt>"
            ]
          },
          "metadata": {}
        },
        {
          "output_type": "display_data",
          "data": {
            "text/html": [
              "<tt>90: 384.702266</tt>"
            ]
          },
          "metadata": {}
        },
        {
          "output_type": "display_data",
          "data": {
            "text/html": [
              "<tt>91: 384.702266</tt>"
            ]
          },
          "metadata": {}
        },
        {
          "output_type": "display_data",
          "data": {
            "text/html": [
              "<tt>92: 384.702266</tt>"
            ]
          },
          "metadata": {}
        },
        {
          "output_type": "display_data",
          "data": {
            "text/html": [
              "<tt>93: 384.702266</tt>"
            ]
          },
          "metadata": {}
        },
        {
          "output_type": "display_data",
          "data": {
            "text/html": [
              "<tt>94: 384.702266</tt>"
            ]
          },
          "metadata": {}
        },
        {
          "output_type": "display_data",
          "data": {
            "text/html": [
              "<tt>95: 384.702266</tt>"
            ]
          },
          "metadata": {}
        },
        {
          "output_type": "display_data",
          "data": {
            "text/html": [
              "<tt>96: 384.702266</tt>"
            ]
          },
          "metadata": {}
        },
        {
          "output_type": "display_data",
          "data": {
            "text/html": [
              "<tt>97: 384.702266</tt>"
            ]
          },
          "metadata": {}
        },
        {
          "output_type": "display_data",
          "data": {
            "text/html": [
              "<tt>98: 384.702266</tt>"
            ]
          },
          "metadata": {}
        },
        {
          "output_type": "display_data",
          "data": {
            "text/html": [
              "<tt>99: 384.702266</tt>"
            ]
          },
          "metadata": {}
        },
        {
          "output_type": "display_data",
          "data": {
            "text/html": [
              "<tt>100: 384.702266</tt>"
            ]
          },
          "metadata": {}
        }
      ]
    },
    {
      "cell_type": "code",
      "source": [
        "as.numeric(beta$detach())"
      ],
      "metadata": {
        "id": "Zn2n21PLzKeY",
        "colab": {
          "base_uri": "https://localhost:8080/",
          "height": 34
        },
        "outputId": "8699aa60-531a-4e37-82ff-fe5dce6f4025"
      },
      "execution_count": 44,
      "outputs": [
        {
          "output_type": "display_data",
          "data": {
            "text/html": [
              "<style>\n",
              ".list-inline {list-style: none; margin:0; padding: 0}\n",
              ".list-inline>li {display: inline-block}\n",
              ".list-inline>li:not(:last-child)::after {content: \"\\00b7\"; padding: 0 .5ex}\n",
              "</style>\n",
              "<ol class=list-inline><li>-11.9398772178039</li><li>5.86175377227419</li><li>0.0230383165130453</li></ol>\n"
            ],
            "text/markdown": "1. -11.9398772178039\n2. 5.86175377227419\n3. 0.0230383165130453\n\n\n",
            "text/latex": "\\begin{enumerate*}\n\\item -11.9398772178039\n\\item 5.86175377227419\n\\item 0.0230383165130453\n\\end{enumerate*}\n",
            "text/plain": [
              "[1] -11.93987722   5.86175377   0.02303832"
            ]
          },
          "metadata": {}
        }
      ]
    }
  ]
}