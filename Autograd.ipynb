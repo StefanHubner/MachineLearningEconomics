{
  "nbformat": 4,
  "nbformat_minor": 0,
  "metadata": {
    "colab": {
      "provenance": [],
      "authorship_tag": "ABX9TyPk+LaPh4aru0eSoodMRac7",
      "include_colab_link": true
    },
    "kernelspec": {
      "name": "python3",
      "display_name": "Python 3"
    },
    "language_info": {
      "name": "python"
    }
  },
  "cells": [
    {
      "cell_type": "markdown",
      "metadata": {
        "id": "view-in-github",
        "colab_type": "text"
      },
      "source": [
        "<a href=\"https://colab.research.google.com/github/StefanHubner/MachineLearningEconomics/blob/main/Autograd.ipynb\" target=\"_parent\"><img src=\"https://colab.research.google.com/assets/colab-badge.svg\" alt=\"Open In Colab\"/></a>"
      ]
    },
    {
      "cell_type": "code",
      "execution_count": null,
      "metadata": {
        "id": "qFIjTLPRy4Vb"
      },
      "outputs": [],
      "source": [
        "# This takes about 9-10 minutes\n",
        "\n",
        "Sys.setenv(\"CUDA\" = \"cpu\")\n",
        "Sys.setenv(\"TORCH_INSTALL\" = \"1\")\n",
        "install.packages(\"torch\", reinstall = FALSE)\n",
        "torch::install_torch()"
      ]
    },
    {
      "cell_type": "code",
      "source": [
        "library(torch)\n",
        "\n",
        "x1x2 <- cbind(1, as.matrix(train[,c(\"balance\", \"income\")])/1000)\n",
        "y1 <- train$default1\n",
        "\n",
        "Sys.setenv(\"CUDA\" = \"cuda\")\n",
        "# by default it will use the CPU, cuda refers to the GPU\n",
        "dev <- ifelse(cuda_is_available(), \"cuda\", \"cpu\")\n",
        "cat(paste0(\"Running on: \", dev))"
      ],
      "metadata": {
        "id": "ByamPjv9zC8l"
      },
      "execution_count": null,
      "outputs": []
    },
    {
      "cell_type": "code",
      "source": [
        "y <- torch_tensor(y1, dtype = torch_float64(), requires_grad = TRUE)\n",
        "x <- torch_tensor(x1x2, dtype = torch_float64(), requires_grad = TRUE)\n",
        "beta <- torch_randn(3, 1, dtype = torch_float64(), requires_grad = TRUE)\n",
        "\n",
        "# Define loss function: likelihood (sometimes called binary cross-entropy in ML context)\n",
        "ll <- function(beta) {\n",
        "  xbhat <- torch_mm(x, beta)\n",
        "  yhat <- torch_sigmoid(xbhat)\n",
        "  loss <- -torch_sum(y * torch_log(yhat) + (1 - y) * torch_log(1 - yhat))\n",
        "  loss\n",
        "}\n",
        "\n",
        "optimizer <- optim_lbfgs(beta, lr = .2)\n",
        "\n",
        "# A 'closure', i.e. the code that is run in each step of the optimiser\n",
        "calc_loss <- function() {\n",
        "  optimizer$zero_grad()\n",
        "  value <- ll(beta)\n",
        "  value$backward()\n",
        "  nn_utils_clip_grad_value_(beta, 20)\n",
        "  value\n",
        "}"
      ],
      "metadata": {
        "id": "2pcCvhDwzGcl"
      },
      "execution_count": null,
      "outputs": []
    },
    {
      "cell_type": "code",
      "source": [
        "for (i in 1:100) {\n",
        "  logl <- optimizer$step(calc_loss) # 20 internal iterations per step\n",
        "  display_html(sprintf(\"<tt>%d: %f</tt>\", i, as.numeric(logl$detach())))\n",
        "}"
      ],
      "metadata": {
        "id": "R_rfoVRJzIte"
      },
      "execution_count": null,
      "outputs": []
    },
    {
      "cell_type": "code",
      "source": [
        "as.numeric(beta$detach())"
      ],
      "metadata": {
        "id": "Zn2n21PLzKeY"
      },
      "execution_count": null,
      "outputs": []
    },
    {
      "cell_type": "code",
      "source": [
        "# debugging\n",
        "\n",
        "debugstart <- t(t(c(1, 2, 3)))\n",
        "x0 <- t(c(1, 1/2, 1/3))\n",
        "\n",
        "y <- torch_tensor(y1[1], dtype = torch_float64(), requires_grad = TRUE)\n",
        "x <- torch_tensor(x0, dtype = torch_float64(), requires_grad = TRUE)\n",
        "\n",
        "beta <- torch_tensor(debugstart, dtype = torch_float64(), requires_grad = TRUE)\n",
        "# Define loss function: likelihood (sometimes called binary cross-entropy in ML context)\n",
        "\n",
        "xbhat <- torch_mm(x, beta)\n",
        "xbhat$retain_grad()\n",
        "\n",
        "yhat <- torch_sigmoid(xbhat)\n",
        "yhat$retain_grad()\n",
        "\n",
        "loss <- -torch_sum(y * torch_log(yhat) + (1 - y) * torch_log(1 - yhat))\n",
        "loss$backward()\n",
        "\n",
        "y\n",
        "x\n",
        "xbhat\n",
        "xbhat$grad # dloss/dp\n",
        "yhat\n",
        "yhat$grad # dloss/dyhat\n",
        "\n",
        "loss <- -torch_sum(y * torch_log(yhat) + (1 - y) * torch_log(1 - yhat))\n"
      ],
      "metadata": {
        "id": "ewNT2kdmy6PE"
      },
      "execution_count": null,
      "outputs": []
    }
  ]
}