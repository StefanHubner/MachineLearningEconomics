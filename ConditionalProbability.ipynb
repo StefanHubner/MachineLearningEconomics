{
  "nbformat": 4,
  "nbformat_minor": 0,
  "metadata": {
    "colab": {
      "provenance": [],
      "authorship_tag": "ABX9TyM50Bm00CvGxvTmhyzrLmPg",
      "include_colab_link": true
    },
    "kernelspec": {
      "name": "ir",
      "display_name": "R"
    },
    "language_info": {
      "name": "R"
    }
  },
  "cells": [
    {
      "cell_type": "markdown",
      "metadata": {
        "id": "view-in-github",
        "colab_type": "text"
      },
      "source": [
        "<a href=\"https://colab.research.google.com/github/StefanHubner/MachineLearningEconomics/blob/main/ConditionalProbability.ipynb\" target=\"_parent\"><img src=\"https://colab.research.google.com/assets/colab-badge.svg\" alt=\"Open In Colab\"/></a>"
      ]
    },
    {
      "cell_type": "markdown",
      "source": [
        "We are working with a sample space $ \\Omega $ defining all possible outcomes of rolling two (coloured) dice. We assume the dice are both \"fair\" and assign an equal probability to each outcome. The corresponding probability measure is denoted by $ P $.\n",
        "\n",
        "Let us define two random variables. $ S : \\Omega \\to \\mathbb{R} $, the sum of the eyes of the dice.\n",
        "\n",
        "Further, let $ I : \\Omega \\to \\mathbb{R} $ which takes value one if the eyes of both dices match, and zero otherwise.\n",
        "\n",
        "We want to make conditional probability statements and, thus, learn $ P(S|I) $.\n",
        "\n"
      ],
      "metadata": {
        "id": "9hO3EWV7vwTH"
      }
    },
    {
      "cell_type": "code",
      "source": [
        "# Required libraries\n",
        "library(dplyr)\n",
        "\n",
        "# Generate the sample space for two dice\n",
        "dice1 <- 1:6\n",
        "dice2 <- 1:6\n",
        "\n",
        "# Define random variables S and I\n",
        "space <- expand.grid(dice1 = dice1, dice2 = dice2) %>%\n",
        "  mutate(S = dice1 + dice2,\n",
        "         I = as.integer(dice1 == dice2))\n",
        "\n",
        "head(space, n = 8) # Omega | R^2"
      ],
      "metadata": {
        "colab": {
          "base_uri": "https://localhost:8080/",
          "height": 349
        },
        "id": "3BEaImtIh0vj",
        "outputId": "09b33186-c8ff-4ab5-b927-9c2af1be339d"
      },
      "execution_count": 24,
      "outputs": [
        {
          "output_type": "display_data",
          "data": {
            "text/html": [
              "<table class=\"dataframe\">\n",
              "<caption>A data.frame: 8 × 4</caption>\n",
              "<thead>\n",
              "\t<tr><th></th><th scope=col>dice1</th><th scope=col>dice2</th><th scope=col>S</th><th scope=col>I</th></tr>\n",
              "\t<tr><th></th><th scope=col>&lt;int&gt;</th><th scope=col>&lt;int&gt;</th><th scope=col>&lt;int&gt;</th><th scope=col>&lt;int&gt;</th></tr>\n",
              "</thead>\n",
              "<tbody>\n",
              "\t<tr><th scope=row>1</th><td>1</td><td>1</td><td>2</td><td>1</td></tr>\n",
              "\t<tr><th scope=row>2</th><td>2</td><td>1</td><td>3</td><td>0</td></tr>\n",
              "\t<tr><th scope=row>3</th><td>3</td><td>1</td><td>4</td><td>0</td></tr>\n",
              "\t<tr><th scope=row>4</th><td>4</td><td>1</td><td>5</td><td>0</td></tr>\n",
              "\t<tr><th scope=row>5</th><td>5</td><td>1</td><td>6</td><td>0</td></tr>\n",
              "\t<tr><th scope=row>6</th><td>6</td><td>1</td><td>7</td><td>0</td></tr>\n",
              "\t<tr><th scope=row>7</th><td>1</td><td>2</td><td>3</td><td>0</td></tr>\n",
              "\t<tr><th scope=row>8</th><td>2</td><td>2</td><td>4</td><td>1</td></tr>\n",
              "</tbody>\n",
              "</table>\n"
            ],
            "text/markdown": "\nA data.frame: 8 × 4\n\n| <!--/--> | dice1 &lt;int&gt; | dice2 &lt;int&gt; | S &lt;int&gt; | I &lt;int&gt; |\n|---|---|---|---|---|\n| 1 | 1 | 1 | 2 | 1 |\n| 2 | 2 | 1 | 3 | 0 |\n| 3 | 3 | 1 | 4 | 0 |\n| 4 | 4 | 1 | 5 | 0 |\n| 5 | 5 | 1 | 6 | 0 |\n| 6 | 6 | 1 | 7 | 0 |\n| 7 | 1 | 2 | 3 | 0 |\n| 8 | 2 | 2 | 4 | 1 |\n\n",
            "text/latex": "A data.frame: 8 × 4\n\\begin{tabular}{r|llll}\n  & dice1 & dice2 & S & I\\\\\n  & <int> & <int> & <int> & <int>\\\\\n\\hline\n\t1 & 1 & 1 & 2 & 1\\\\\n\t2 & 2 & 1 & 3 & 0\\\\\n\t3 & 3 & 1 & 4 & 0\\\\\n\t4 & 4 & 1 & 5 & 0\\\\\n\t5 & 5 & 1 & 6 & 0\\\\\n\t6 & 6 & 1 & 7 & 0\\\\\n\t7 & 1 & 2 & 3 & 0\\\\\n\t8 & 2 & 2 & 4 & 1\\\\\n\\end{tabular}\n",
            "text/plain": [
              "  dice1 dice2 S I\n",
              "1 1     1     2 1\n",
              "2 2     1     3 0\n",
              "3 3     1     4 0\n",
              "4 4     1     5 0\n",
              "5 5     1     6 0\n",
              "6 6     1     7 0\n",
              "7 1     2     3 0\n",
              "8 2     2     4 1"
            ]
          },
          "metadata": {}
        }
      ]
    },
    {
      "cell_type": "markdown",
      "source": [
        "$ P $ measures events in $ \\Omega $ but we can relate events for $ S $ and $I $ in $ \\mathbb{R}^2 $ back to $ \\Omega $ by noting:\n",
        "\n",
        "$ P(S = 7 \\text{ and } I = 1) = P(\\{\\omega \\in \\Omega : \\omega \\in S^{-1}(7) \\cap I^{-1}(1) \\}) $\n",
        "\n",
        "This means we take all elementary events that will produce $ S = 7 $ and $ I = 1 $ respectively.\n",
        "\n",
        "$ S^{-1}(7) = \\{(6,1), (5,2), (4,3), (3,4), (2, 5), (1, 6)\\} $\n",
        "\n",
        "and\n",
        "$ I^{-1}(1) = \\{(1,1), (2,2), (3,3), (4,4), (5, 5), (6, 6)\\} $\n",
        "\n",
        "Clearly, their union is the empty set.\n",
        "\n",
        "$ P(S = 7 \\text{ and } I = 1) = P(\\{\\omega \\in \\Omega : \\omega \\in \\emptyset \\} = 0 $.\n",
        "\n",
        "Trivially, we also have $ P(S = 7 | I = 1) = 0 $.\n",
        "\n",
        "Comparing this to $ P(S = 7) = \\frac{|S^{-1}(7)|}{|\\Omega|}$ where $ |U| $ denotes the cardinality of the set $ U $."
      ],
      "metadata": {
        "id": "fYr_T97jvH1M"
      }
    },
    {
      "cell_type": "code",
      "source": [
        "# Calculate conditional probability P( S=7 | I=1 )\n",
        "K <- nrow(space) # all possible elementary events\n",
        "\n",
        "# event A: omegas | corresponding outcomes in R^2\n",
        "A <- filter(space, I == 1)\n",
        "A\n",
        "\n",
        "# event B: omegas | corresponding outcomes in R^2\n",
        "B <- filter(space, S == 7)\n",
        "B\n",
        "\n",
        "AunionB <- filter(space, I == 1, S == 7)\n",
        "AunionB\n",
        "\n",
        "AcondB <- nrow(AunionB) / nrow(B)\n",
        "AcondB"
      ],
      "metadata": {
        "colab": {
          "base_uri": "https://localhost:8080/",
          "height": 637
        },
        "id": "KJTgcmHEh1wv",
        "outputId": "d9aa45d9-3d2e-4f8a-c8d2-bd6cedba9a2e"
      },
      "execution_count": 22,
      "outputs": [
        {
          "output_type": "display_data",
          "data": {
            "text/html": [
              "<table class=\"dataframe\">\n",
              "<caption>A data.frame: 6 × 4</caption>\n",
              "<thead>\n",
              "\t<tr><th scope=col>dice1</th><th scope=col>dice2</th><th scope=col>S</th><th scope=col>I</th></tr>\n",
              "\t<tr><th scope=col>&lt;int&gt;</th><th scope=col>&lt;int&gt;</th><th scope=col>&lt;int&gt;</th><th scope=col>&lt;int&gt;</th></tr>\n",
              "</thead>\n",
              "<tbody>\n",
              "\t<tr><td>1</td><td>1</td><td> 2</td><td>1</td></tr>\n",
              "\t<tr><td>2</td><td>2</td><td> 4</td><td>1</td></tr>\n",
              "\t<tr><td>3</td><td>3</td><td> 6</td><td>1</td></tr>\n",
              "\t<tr><td>4</td><td>4</td><td> 8</td><td>1</td></tr>\n",
              "\t<tr><td>5</td><td>5</td><td>10</td><td>1</td></tr>\n",
              "\t<tr><td>6</td><td>6</td><td>12</td><td>1</td></tr>\n",
              "</tbody>\n",
              "</table>\n"
            ],
            "text/markdown": "\nA data.frame: 6 × 4\n\n| dice1 &lt;int&gt; | dice2 &lt;int&gt; | S &lt;int&gt; | I &lt;int&gt; |\n|---|---|---|---|\n| 1 | 1 |  2 | 1 |\n| 2 | 2 |  4 | 1 |\n| 3 | 3 |  6 | 1 |\n| 4 | 4 |  8 | 1 |\n| 5 | 5 | 10 | 1 |\n| 6 | 6 | 12 | 1 |\n\n",
            "text/latex": "A data.frame: 6 × 4\n\\begin{tabular}{llll}\n dice1 & dice2 & S & I\\\\\n <int> & <int> & <int> & <int>\\\\\n\\hline\n\t 1 & 1 &  2 & 1\\\\\n\t 2 & 2 &  4 & 1\\\\\n\t 3 & 3 &  6 & 1\\\\\n\t 4 & 4 &  8 & 1\\\\\n\t 5 & 5 & 10 & 1\\\\\n\t 6 & 6 & 12 & 1\\\\\n\\end{tabular}\n",
            "text/plain": [
              "  dice1 dice2 S  I\n",
              "1 1     1      2 1\n",
              "2 2     2      4 1\n",
              "3 3     3      6 1\n",
              "4 4     4      8 1\n",
              "5 5     5     10 1\n",
              "6 6     6     12 1"
            ]
          },
          "metadata": {}
        },
        {
          "output_type": "display_data",
          "data": {
            "text/html": [
              "<table class=\"dataframe\">\n",
              "<caption>A data.frame: 6 × 4</caption>\n",
              "<thead>\n",
              "\t<tr><th scope=col>dice1</th><th scope=col>dice2</th><th scope=col>S</th><th scope=col>I</th></tr>\n",
              "\t<tr><th scope=col>&lt;int&gt;</th><th scope=col>&lt;int&gt;</th><th scope=col>&lt;int&gt;</th><th scope=col>&lt;int&gt;</th></tr>\n",
              "</thead>\n",
              "<tbody>\n",
              "\t<tr><td>6</td><td>1</td><td>7</td><td>0</td></tr>\n",
              "\t<tr><td>5</td><td>2</td><td>7</td><td>0</td></tr>\n",
              "\t<tr><td>4</td><td>3</td><td>7</td><td>0</td></tr>\n",
              "\t<tr><td>3</td><td>4</td><td>7</td><td>0</td></tr>\n",
              "\t<tr><td>2</td><td>5</td><td>7</td><td>0</td></tr>\n",
              "\t<tr><td>1</td><td>6</td><td>7</td><td>0</td></tr>\n",
              "</tbody>\n",
              "</table>\n"
            ],
            "text/markdown": "\nA data.frame: 6 × 4\n\n| dice1 &lt;int&gt; | dice2 &lt;int&gt; | S &lt;int&gt; | I &lt;int&gt; |\n|---|---|---|---|\n| 6 | 1 | 7 | 0 |\n| 5 | 2 | 7 | 0 |\n| 4 | 3 | 7 | 0 |\n| 3 | 4 | 7 | 0 |\n| 2 | 5 | 7 | 0 |\n| 1 | 6 | 7 | 0 |\n\n",
            "text/latex": "A data.frame: 6 × 4\n\\begin{tabular}{llll}\n dice1 & dice2 & S & I\\\\\n <int> & <int> & <int> & <int>\\\\\n\\hline\n\t 6 & 1 & 7 & 0\\\\\n\t 5 & 2 & 7 & 0\\\\\n\t 4 & 3 & 7 & 0\\\\\n\t 3 & 4 & 7 & 0\\\\\n\t 2 & 5 & 7 & 0\\\\\n\t 1 & 6 & 7 & 0\\\\\n\\end{tabular}\n",
            "text/plain": [
              "  dice1 dice2 S I\n",
              "1 6     1     7 0\n",
              "2 5     2     7 0\n",
              "3 4     3     7 0\n",
              "4 3     4     7 0\n",
              "5 2     5     7 0\n",
              "6 1     6     7 0"
            ]
          },
          "metadata": {}
        },
        {
          "output_type": "display_data",
          "data": {
            "text/html": [
              "<table class=\"dataframe\">\n",
              "<caption>A data.frame: 0 × 4</caption>\n",
              "<thead>\n",
              "\t<tr><th scope=col>dice1</th><th scope=col>dice2</th><th scope=col>S</th><th scope=col>I</th></tr>\n",
              "\t<tr><th scope=col>&lt;int&gt;</th><th scope=col>&lt;int&gt;</th><th scope=col>&lt;int&gt;</th><th scope=col>&lt;int&gt;</th></tr>\n",
              "</thead>\n",
              "<tbody>\n",
              "</tbody>\n",
              "</table>\n"
            ],
            "text/markdown": "\nA data.frame: 0 × 4\n\n| dice1 &lt;int&gt; | dice2 &lt;int&gt; | S &lt;int&gt; | I &lt;int&gt; |\n|---|---|---|---|\n\n",
            "text/latex": "A data.frame: 0 × 4\n\\begin{tabular}{llll}\n dice1 & dice2 & S & I\\\\\n <int> & <int> & <int> & <int>\\\\\n\\hline\n\\end{tabular}\n",
            "text/plain": [
              "     dice1 dice2 S I"
            ]
          },
          "metadata": {}
        }
      ]
    }
  ]
}