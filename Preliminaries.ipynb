{
  "nbformat": 4,
  "nbformat_minor": 0,
  "metadata": {
    "colab": {
      "provenance": [],
      "authorship_tag": "ABX9TyPzbS6lqmVu+UpDpYJG8rHT",
      "include_colab_link": true
    },
    "kernelspec": {
      "name": "ir",
      "display_name": "R"
    },
    "language_info": {
      "name": "R"
    }
  },
  "cells": [
    {
      "cell_type": "markdown",
      "metadata": {
        "id": "view-in-github",
        "colab_type": "text"
      },
      "source": [
        "<a href=\"https://colab.research.google.com/github/StefanHubner/MachineLearningEconomics/blob/main/Preliminaries.ipynb\" target=\"_parent\"><img src=\"https://colab.research.google.com/assets/colab-badge.svg\" alt=\"Open In Colab\"/></a>"
      ]
    },
    {
      "cell_type": "markdown",
      "source": [
        "# Probability"
      ],
      "metadata": {
        "id": "7IvKDavUubzh"
      }
    },
    {
      "cell_type": "markdown",
      "source": [
        "## Language and Notation\n",
        "\n",
        "The set of all possible outcomes of an experiment is called the **sample space** which we will denote by $ \\Omega $ (e.g. $ \\Omega = \\left\\{ HH, HT, TH, TT \\right\\} $). We refer to its elements $ \\omega \\in \\Omega $ as elementary events.\n",
        "\n",
        "\n",
        "An **event** is a subset of the sample space $ A \\subseteq \\Omega $. It allows us to define statements such as \"at least one head occurs\" with corresponding event $ A = \\{HH, HT, TH\\} $.\n",
        "\n",
        "\n",
        "\n",
        "We call the set of all possible events a **sigma-algebra** which is denoted by $ \\mathcal{F} = \\sigma(\\Omega) $. This includes the **null event** $ \\emptyset $ and the **sure event** $ \\Omega $.\n",
        "\n",
        "\n",
        "A **probability measure** $P$ is a function that takes an event and measures how likely it will occur (e.g. for a fair coin we know that $ P(\\{HH\\}) = \\frac{1}{4} $).\n",
        "\n",
        "\n",
        "A **probability space** is a triple $ (\\Omega, \\mathcal{F}, P) $."
      ],
      "metadata": {
        "id": "piiAAHXeu76P"
      }
    },
    {
      "cell_type": "markdown",
      "source": [
        "## Probability Measure\n",
        "\n",
        "### Definition\n",
        "\n",
        "1. $P(A) \\geq 0$ for any event $A \\subseteq \\Omega$,\n",
        "\n",
        "2.  $P(\\Omega) =1$,\n",
        "\n",
        "3. If subsets $A_n\\in\\Omega,n=1,2,...$ are disjoint (do not intersect),\n",
        "then $P( \\bigcup_{n=1}^{\\infty} A_n) =\n",
        "\\sum_{n=1}^{\\infty} P(A_n)$. This is called countable additivity.\n",
        "\n",
        "\n",
        "A few results that could be derived from the definition:\n",
        "\n",
        "* $P(\\emptyset) =0$,\n",
        "* $P(\\Omega \\setminus A)  =1 - P(A)$, where $\\Omega \\setminus A = \\{\\omega \\notin A \\}$,\n",
        "* If $A\\subseteq B$ then $P(A) \\leq P(B)$,\n",
        "* $P(A\\cup B) =P(A) + P(B) - P( A\\cap B)$,\n",
        "* For any sets $A_{n}$,\n",
        "$P( \\bigcup_{n=2}^{\\infty} A_n ) \\leq \\sum\\nolimits_{n=1}^{\\infty}P( A_n )$.\n",
        "\n",
        "\n",
        "We can define different probability functions (e.g., $P_1, P_2, P_3$) on the same sample space"
      ],
      "metadata": {
        "id": "wxClf6gWl2-p"
      }
    },
    {
      "cell_type": "markdown",
      "source": [
        "## Random Variables\n",
        "\n",
        "A **random variable** $X$ is a function from ($\\Omega$, $\\mathcal{F}) $ into $ (\\mathbb{R}, \\mathcal{B}) $ connecting an elementary event $ \\omega $ to a real valued outcome.\n",
        "\n",
        "\n",
        "> For example, let's assume we have two coloured dice and define their respective face values as two random variables $X(⚄⚂) = 5, Y(⚄⚂) = 3$. Their value tells us that for outcome $\\omega_{53} = ⚄⚂ $ the\n",
        "random variable $X$ will have realised value $5$ and the random variable $Y$ will have realised value $3$.\n",
        "\n",
        "\n",
        "When we write a formula with random variables, the formula defines a new function:\n",
        "$$ Z : \\Omega \\to \\mathbb{R} : \\omega \\mapsto X(\\omega)+ Y(\\omega) $$\n",
        "We usually write the short hand definition $ Z = X + Y $ but keep this definition in mind!\n",
        "\n",
        "---\n",
        "\n",
        "Think of all random variables as simultaneously determined by the outcome $\\omega$.\n",
        "Any expression you construct from random variables is also uniquely determined\n",
        "by the outcome $\\omega$.\n",
        "\n",
        "\\begin{equation*}\n",
        "\\begin{array}{llcccccc}\n",
        "&  & X_1 & X_2 & X_3 & Y & X_3 / Y & \\dots \\\\\n",
        "\\omega _{1} & ~ & 0 & 0 & 0 & 1.5 & 0 & \\dots \\\\\n",
        "\\omega _{2} & ~ & 0 & 3 & 3 & 2 & 1.5 & \\dots \\\\\n",
        "\\omega _{3} & ~ & 1 & 0 & 1 & 1 & 1 & \\dots \\\\\n",
        "\\omega _{4} & ~ & 2 & 1 & 4 & 0.5 & 8 & \\dots \\\\\n",
        "... & ~ & ... & ... & ... & ... & ... & \\dots\n",
        "\\end{array}%\n",
        "\\end{equation*}"
      ],
      "metadata": {
        "id": "whl0BDhVmCDa"
      }
    },
    {
      "cell_type": "markdown",
      "source": [
        "## Measuring Events\n",
        "\n",
        "The probability measure $P$ determines how likely different $\\omega$'s are to happen and, consequently, values for $ X_{1}, X_{2},X_{3},Y$ and their functions.\n",
        "\n",
        "We often want to make statements not only involving an elementary event $ \\omega \\in \\Omega$ but instead a collection $ A \\in \\mathcal{F} $ of them.\n",
        "\n",
        "We can then define the corresponding event for the random variable as $\\{\\omega: Z(\\omega) \\in B \\}$ where $ B \\in \\mathcal{B} $, the Borel sigma-algebra defined as the smallest set of all open intervals on $ \\mathbb{R} $.\n",
        "\n",
        "If we write $P(\\dots)$ around the statement, we mean the probability assigned by measure $P$ to the event described in parentheses e.g.\n",
        "$$\n",
        "P(\\{\\omega: Z(\\omega) \\in (a,b) \\}) = P(Z \\in (a,b)) = P (a < Z < b).\n",
        "$$\n",
        "\n",
        "\n",
        "\n",
        "> In our two dice example we might want to be interested in the event that corresponds to the sum of the eyes as $ Z = X + Y $ being less or equal to 3.\n",
        ">\n",
        "> For this, we can define the event $ B = (0, 3] \\in \\mathcal{B} $ that their sum is less or equal than 3.\n",
        "$$ A = \\{\\omega: Z(\\omega) \\in (0, 3] \\} =\n",
        "\\{ ⚀⚀, ⚀⚁, ⚁⚀\\}$$\n",
        "\n",
        "We can then measure this event with different probability measures.\n",
        "\n",
        "> Let us denote as $ P_0 $ the probability measure corresponding to a fair dice that gives equal likelihood $ P_0(\\omega) = \\frac{1}{36} $ to all elementary events $ \\omega \\in \\Omega $. In this case we get $ P(A) = \\frac{3}{36} = \\frac{1}{12} $."
      ],
      "metadata": {
        "id": "fvsjunIAmP2P"
      }
    },
    {
      "cell_type": "markdown",
      "source": [
        "## Distribution Functions\n",
        "\n",
        "### Absolute continuity\n",
        "\n",
        "An elementary element in $ \\mathbb{R} $ is a point,  which is (losely speaking) an interval $ B \\in \\mathcal{B} $ of width zero. We sometimes call these intervals to have zero (Lebesque) measure.\n",
        "\n",
        "If a probability measure for a random variable $ X $gives zero probability to **any zero-measure intervals**, we call the random variable $ X $ a **continuous random variable**.\n",
        "\n",
        "If **every zero-measure interval** in the image of a random variable $ Y $ is given non-zero probability by it's probability measure, we call the random variable $ Y $ discrete.\n",
        "\n",
        "There are also **mixed** random variables.\n",
        "\n",
        "> In our example, the image of $ Z $ is $ \\{ 2, \\ldots\\, 12 \\} $. For any of these points $ P_0 $ associates a probability to the corresponding event of $ \\frac{1}{36} > 0 $.\n",
        "\n",
        "## Continuous vs Discrete\n",
        "Instead of working with general probability measures, we will often distinguish discrete and continuous random variables and work with distribution functions:\n",
        "$$ F_{X}(x) = P(X \\leq x) $$\n",
        "\n",
        "For a **continuous** random variable there exists a function $f_{X}(x) \\geq 0$, called the **probability density function**, satisfying\n",
        "$$\n",
        "F_{X}(x) = \\int_{-\\infty }^{x}f_{X}(t)dt \\text{ for all } x \\in \\mathbb{R}.\n",
        "$$\n",
        "\n",
        "In this case we can measure:\n",
        "$$ P(a < X < b) = F_X(b) - F_X(a) = \\int_{a}^{b}f_{X}(t)dt $$\n",
        "by the **fundamental theorem of calculus**.\n",
        "\n",
        "\n",
        "\n",
        "> *Exercise: Use the probability of the sure event to show that any density function must satisfy* $\\int_{-\\infty}^{\\infty} f_X(x)dx = 1$.\n",
        "\n",
        "If the random variable $X$ is **discrete** we have\n",
        "$$\n",
        "\\sum_{k=1}^{\\infty} P(X = x_k) = 1\n",
        "$$\n",
        "for some (possibly uncountable) sequence of numbers $\\{x_1, x_2, x_3, \\dots \\}$.\n",
        "\n",
        "\n",
        "We call $p(x_k) = P(X=x_k)$ the **probability mass function** of $X$."
      ],
      "metadata": {
        "id": "hMwNVc-CmpGN"
      }
    },
    {
      "cell_type": "markdown",
      "source": [
        "\n",
        "\n",
        "## Moments\n",
        "\n",
        "The **expectation** for any (measurable) function m is\n",
        "$$\n",
        "\\mathbb{E} m(X) = \\left\\{\n",
        "\\begin{array}{ll}\n",
        "\\sum\\limits_{k=1}^{\\infty} m(x_k) P(X = x_k)\n",
        " & \\text{ if $X$ is discrete}, \\\\\n",
        "\\int\\limits_{-\\infty}^{\\infty} m(x) f_X(x) dx\n",
        " & \\text{ if $X$ is continuous}.\n",
        "\\end{array}\n",
        "\\right.\n",
        "$$\n",
        "\n",
        "**Special cases**:\n",
        "* Expected Value: $ m_1(X) = X $\n",
        "* Variance: $ m_2(X) = (X - m_1(X))^2 $\n",
        "* Covariance: $ m_3(X, Y) = (X - m_1(X))(Y - m_1(Y)) $\n",
        "\n",
        "## Independence\n",
        "Events $\\{ A_{k},k = 1,2,\\dots n\\}$ are **independent**\n",
        "$$\n",
        "    P\\underbrace{\\left( \\bigcap_{k=1}^{n} A_k \\right)}_{\\text{intersection of sets}}  = \\prod_{k=1}^{n}  P\\left( A_k \\right).\n",
        "$$\n",
        "\n",
        "~\n",
        "\n",
        "This leads to a definition of **independent random variables** $\\{X_1, X_2, \\dots, X_n\\}$  if\n",
        "$$\n",
        "P\\underbrace{( X_1 \\in B_1, X_2 \\in B_2, \\dots X_n \\in B_n )}_{\\text{all true }}\n",
        "= \\prod\\limits_{k=1}^{n} P( X_k \\in B_k )\n",
        "$$\n",
        "for any sets of real numbers $B_1, \\dots, B_n \\in \\mathcal{B} $.\n",
        "\n",
        "\n",
        "Consequently, random variables are **independent** if their **conditional probability**\n",
        "$$ P(X_1 \\in B_1 | X_2 \\in B_2) = \\frac{P(X_1 \\in B_1, X_2 \\in B_2)}{P(X_2 \\in B_2)} = P(X_1 \\in B_1) . $$\n"
      ],
      "metadata": {
        "id": "XSPeMs7sw33_"
      }
    },
    {
      "cell_type": "markdown",
      "source": [
        "# Statistical Inference\n",
        "\n",
        "The process of drawing conclusions\n",
        "from the data that is subject to random variation about features of\n",
        "the probability distribution that has generated the data.\n",
        "\n",
        "The process of statistical inference typically involves:\n",
        "\n",
        "* a particular realisation of the observed random variables (the data)\n",
        "* a statistical model of the different processes that could have\n",
        "generated the data\n",
        "\n",
        "The conclusion of statistical inference is a proposition:\n",
        "* an **estimate**: a specific number that is our best guess about\n",
        "the value of an unknown parameter\n",
        "* a **confidence interval**: a set of guesses about the unknown\n",
        "parameter that expresses estimation uncertainty and has a high probability\n",
        "of containing the true parameter\n",
        "* a **statement** about a hypothesis regarding the data generating process,\n",
        "e.g., acceptance or rejection\n",
        "\n",
        "\n",
        "A **statistical model** could be described using the following\n",
        "two elements:\n",
        "* The sample space $\\Omega$ and the observed random variables.\n",
        "These should describ\\iteme all the feasible realisations of the data.\n",
        "Random variables are named explicitly, whereas the sample space is often\n",
        "implicit.\n",
        "* A set $\\mathcal{P}$ of possible probability distributions governing\n",
        "the distribution of the random variables.\n",
        "\n",
        "\n",
        "In this course we will work with **parametric models**.\n",
        "A model is parametric if the set of possible distributions could be described\n",
        "by a finite-dimentional parameter $\\theta \\in \\Theta \\subseteq \\mathbb{R}^d$.\n",
        "\n",
        "\n",
        "We conjecture that one of the probability distributions $P_{\\theta_0} \\in \\mathcal{P}$\n",
        "is the true distribution (and $\\theta_0$ is the true parameter value). The sample\n",
        "we observe is one random draw from this distribution.\n",
        "\n",
        "\n",
        "Random variables $\\{X_1,X_2,\\dots,X_n\\}$ are called\n",
        "**i.i.d. (independent and identically distributed)** if\n",
        "\n",
        "1. $\\{X_1,X_2,\\dots,X_n\\}$ are independent\n",
        "2. All $n$ variables have the same marginal distribution $F_{X_k}(t) = F(t)$ for $k=1\\ldots n$\n",
        "\n",
        "Realisation of i.i.d. variables are also called a **random sample** from distribution $F$.\n",
        "\n",
        "\n",
        "When we are dealing with an i.i.d. sample, we can use the same notation ($F(t), f(t)$)\n",
        "to denote the marginal CDF and PDF (or PMF) of each variable.\n",
        "\n",
        "## Random sample\n",
        "\n",
        "If $F(t)$ describes the distribution of some characteristic in a **population**,\n",
        "then the IID assumption is accurate when individuals are randomly sampled (with replacement)\n",
        "from the population.\n",
        "\n",
        "IID sample assumption often inaccurately describes actual data. The most common scenarios\n",
        "that violate independence are:\n",
        "> * Observations over time. Subsequent observations of the same variable are often correlated,\n",
        "especially when measurements are frequent. Sometimes the **identically distributed**\n",
        "part of assumption is also incorrect in time series.\n",
        "* Observations that are sampled in groups (**clustering**). For example, if you collect\n",
        "data on pupils in a sample of UK schools, values of some variables will be correlated\n",
        "for pupils in the same school.   \n",
        "* **Sample selection**: In many studies there is an opt-in policy. For example students taking parts of experiments and getting paid a  certain reward. This makes students with less income more likely to attend.  \n",
        "\n",
        "### Frequentist Inference\n",
        "\n",
        "The statistical inference framework covered in this course (and in all other Econometrics\n",
        "courses in your programme) is called **frequentist**.\n",
        "\n",
        "Once we have specified a statistical model,\n",
        "we choose an inference procedure that describes\n",
        "**what inference we would make based on any possible\n",
        "values of the sample**.\n",
        "\n",
        "For each possible parameter $\\theta$ we could calculate\n",
        "the probability distribution of the sample (how likely is each realisation). Since we know what inference we would make based on each realisation, this probability distribution tells us how likely we are to make each specific inference.\n",
        "\n",
        "\n",
        "We are looking for inference procedures that will perform well for any possible value of $\\theta$.\n",
        "\n",
        "\n",
        "## Estimation\n",
        "\n",
        "Point estimation: guessing one specific numerical value for the unknown parameter.\n",
        "\n",
        "* We think of $\\theta_0 \\in \\Theta$ as the true (but unknown to us)\n",
        "parameter value. $\\theta_0$ is called the **estimand**.\n",
        "* We propose an **estimator**, which is a function of\n",
        "the sample realisations $\\widehat{\\theta} = \\widehat{\\theta}(X_1,X_2,\\dots,X_n)$\n",
        "(a formula that depends only on the observed random variables).\n",
        "* From a specific observed sample $(x_1,x_2,\\dots,x_n)$ we compute the realised value $\\widehat{\\theta}(x_1,x_2,\\dots,x_n)$. This value is called the **estimate **.\n",
        "\n",
        "\n",
        "The estimator $\\widehat{\\theta} $ is itself a random variable whose  **sampling distribution** is also determined by $P_{\\theta_0}$.\n",
        "\n",
        "> Example: $\\{X_1,X_2\\}$ are IID Bernoulli$(\\theta)$. $\\Theta = \\{\\theta_1,\\theta_2\\}$,\n",
        "$\\theta_1 = 1/3$, $\\theta_2 = 2/3$\n",
        ">\n",
        "> We consider the estimator $\\widehat{\\theta} = \\frac{X_1+X_2}{2}$.\n",
        ">\n",
        "> $$\n",
        "\\begin{array}{l|lcccccc}\n",
        "&  & X_1 (\\omega) & X_2 (\\omega) & \\widehat{\\theta}(\\omega) & & P_{\\theta_1} & P_{\\theta_2}  \\\\\n",
        "\\hline\n",
        "\\omega_1 & ~ & 0 & 0 & 0 & & 4/9 & 1/9 \\\\\n",
        "\\omega_2 & ~ & 0 & 1 & 1/2 & & 2/9 & 2/9  \\\\\n",
        "\\omega_3 & ~ & 1 & 0 & 1/2 & & 2/9 & 2/9 \\\\\n",
        "\\omega_4 & ~ & 1 & 1 & 1 & & 1/9 & 4/9\n",
        "\\end{array}%\n",
        "$$\n"
      ],
      "metadata": {
        "id": "aDvm07fTlhxs"
      }
    },
    {
      "cell_type": "markdown",
      "source": [
        "# Maximum Likelihood Estimation"
      ],
      "metadata": {
        "id": "PTcZTQj4qMZo"
      }
    },
    {
      "cell_type": "markdown",
      "source": [
        "## The Likelihood Principle\n",
        "\n",
        "We assume we have $ n $ independent copies of random variables $ X_1, \\ldots, X_n $ with $ P(X_i \\leq x) = P_{\\theta}(X_i \\leq x) = F_{\\theta}(x) $ with corresponding p.d.f or p.m.f. $ f(x|\\theta) $\n",
        "\n",
        "Thus, the likelihood that we observe realisations $ (x_1, \\ldots x_n) $\n",
        "$$ f(x_1, \\ldots, f_n | \\theta) =\\prod\\limits_{i=1}^n f_i(x_i, \\theta) =\\prod\\limits_{i=1}^n f(x_i, \\theta)  $$\n",
        "\n",
        "where the first equality follows from independence and the second from\n",
        "the identical distribution.\n",
        "\n",
        "For each $\\theta$, the density function tells us how likely we would observe\n",
        " $(X_1 = x_1, X_2 = x_2, \\dots, X_n = x_n)$.\n",
        "\n",
        "\n",
        "Likelihood function\n",
        "$$\n",
        "\\mathcal{L}(\\theta) = \\prod_{i=1}^{n} f(x_i; \\theta)\n",
        "$$\n",
        "has the same mathematical expression as the joint density function.\n",
        "However, it is specified **as a function of the parameter $\\theta$**\n",
        "for a fixed value of the sample $(x_1, x_2, \\dots, x_n)$. When we differentiate\n",
        "$\\mathcal{L}(\\theta)$, we treat $(x_1, \\dots, x_n)$ as constants.\n",
        "\n",
        "\n",
        "The **maximum likelihood estimator (MLE)** $ \\widehat{\\theta}_{\\text{MLE}}$ is the value of $\\theta$\n",
        "that maximises the likelihood function given a particular sample $(x_1, \\dots, x_n)$:\n",
        "$$\n",
        "\\widehat{\\theta}_{\\text{MLE}}\\equiv \\arg\\max_{\\theta \\in \\Theta} \\mathcal{L}(\\theta).\n",
        "$$\n",
        "\n",
        "Since $\\log(\\ )$ is a strictly increasing function and $\\mathcal{L}(\\theta) \\geq 0$\n",
        "$$\n",
        "\\widehat{\\theta}_{\\text{MLE}}= \\arg\\max_{\\theta \\in \\Theta} \\mathcal{L}(\\theta)\n",
        "             = \\arg\\max_{\\theta \\in \\Theta} \\left( \\log\\mathcal{L}(\\theta) \\right)\n",
        "$$\n",
        "It is usually easier to find the MLE by maximising the \\emph{log-likelihood}\n",
        "$$\n",
        "\\ell(\\theta) \\equiv \\log \\mathcal{L}(\\theta)\n",
        "$$\n",
        "For an IID sample,\n",
        "$$\n",
        "\\ell(\\theta) = \\log f(x_1 \\ldots x_n; \\theta) = \\log \\left( \\prod_{i=1}^{n} f(x_i; \\theta) \\right) = \\sum\\limits_{i=1}^n \\log f(x_i; \\theta)\n",
        "$$\n",
        "\n",
        "\n",
        "Let $\\theta = (\\theta_1, \\theta_2, \\dots, \\theta_k)$.\n",
        "\n",
        "If the likelihood function is differentiable and its maximum is not on the boundary\n",
        "of the parameter space $\\Theta$, then $\\widehat{\\theta}_{\\text{MLE}} $ must satisfy the First-Order Conditions:\n",
        "$$\n",
        "\\frac{\\partial}{\\partial \\theta_j} \\ell(\\theta) = 0, \\ \\ j = 1,\\dots,k\n",
        "$$\n",
        "In addition to FOCs we need to verify the Second-Order Conditions to ensure that\n",
        "it is a maximum and not a minimum or a saddle point.\n",
        "\n",
        "If the log-likelihood function $\\ell(\\theta)$ is globally concave, then $\\widehat{\\theta}_{\\text{MLE}}$\n",
        "satisfying the FOCs will be a global maximum.\n",
        "\n"
      ],
      "metadata": {
        "id": "MOUuQv9wpooO"
      }
    },
    {
      "cell_type": "markdown",
      "source": [
        "## Conditional Likelihood\n",
        "\n"
      ],
      "metadata": {
        "id": "ecqgpezxtims"
      }
    },
    {
      "cell_type": "markdown",
      "source": [
        "## Logistic Errors\n",
        "\n"
      ],
      "metadata": {
        "id": "N9mTDEelqUqA"
      }
    },
    {
      "cell_type": "markdown",
      "source": [
        "We first simulate some data.\n",
        "\n",
        "For this we let $ n = 1,000 $, $ \\beta_0 = (1.5, 0.8) $, $ X \\sim U[-1, 1] $, and define\n",
        "$$f(y_i|x_i, \\beta) = \\sigma(x_i^T \\beta_0) = \\frac{1}{1+exp(-x_i^T \\beta_0)} $$."
      ],
      "metadata": {
        "id": "-xJ6z3CRwTSc"
      }
    },
    {
      "cell_type": "code",
      "source": [
        "if (!require(wooldridge)) install.packages(\"wooldridge\", quiet = TRUE)\n",
        "\n",
        "# Load necessary libraries\n",
        "suppressPackageStartupMessages(\n",
        "  library(wooldridge)\n",
        ")\n",
        "\n",
        "data('k401ksubs')\n",
        "p <- k401ksubs %>%\n",
        "  ggplot(aes(y = e401k, x = inc)) +\n",
        "  geom_point() +\n",
        "  labs(x = \"Income\",\n",
        "       y = \"Eligible for pension scheme\",\n",
        "       title = \"Scatterplot of association\")\n",
        "\n",
        "p"
      ],
      "metadata": {
        "colab": {
          "base_uri": "https://localhost:8080/"
        },
        "id": "DMcn2NbpvYwo",
        "outputId": "4c1801a4-2988-4d28-bfba-dac8f65c504b"
      },
      "execution_count": null,
      "outputs": [
        {
          "output_type": "stream",
          "name": "stderr",
          "text": [
            "Loading required package: plotly\n",
            "\n",
            "Warning message in library(package, lib.loc = lib.loc, character.only = TRUE, logical.return = TRUE, :\n",
            "“there is no package called ‘plotly’”\n",
            "also installing the dependencies ‘Rcpp’, ‘later’, ‘htmlwidgets’, ‘lazyeval’, ‘crosstalk’, ‘promises’\n",
            "\n",
            "\n"
          ]
        }
      ]
    },
    {
      "cell_type": "markdown",
      "source": [
        "Now let us estimate the model"
      ],
      "metadata": {
        "id": "0oimueW8wgVm"
      }
    },
    {
      "cell_type": "code",
      "source": [
        "# Define the log-likelihood function for a binary choice model with logistic errors\n",
        "build_ll <- function(y, x) {\n",
        "  function(beta) {\n",
        "    p_hat <- plogis(cbind(1, x) %*% beta)\n",
        "    -sum(y * log(p_hat) + (1 - y) * log(1 - p_hat))\n",
        "  }\n",
        "}\n",
        "\n",
        "# Estimate the model parameters using optim\n",
        "start <- c(0, 0) # Initial guesses for the parameters\n",
        "result <- optim(start, build_ll(k401ksubs$e401k, k401ksubs$inc))\n",
        "\n",
        "# Print the estimated parameters\n",
        "cat(\"Estimated parameters: (\", paste0(result$par, collapse = \", \"), \")\\n\")\n",
        "cat(\"Neg. log-likelihood: \", result$value, \"\\n\")\n",
        "\n",
        "yhat <- plogis(cbind(1, k401ksubs$inc) %*% result$par)\n",
        "p + geom_line(aes(y = yhat, x = k401ksubs$inc))"
      ],
      "metadata": {
        "colab": {
          "base_uri": "https://localhost:8080/",
          "height": 472
        },
        "id": "8YWxZZZKvnUw",
        "outputId": "35e43a7c-013c-432e-82cf-9b6e457c879f"
      },
      "execution_count": null,
      "outputs": [
        {
          "output_type": "stream",
          "name": "stdout",
          "text": [
            "Estimated parameters: ( -1.40294850599546, 0.024231876671413 )\n",
            "Neg. log-likelihood:  5872.437 \n"
          ]
        },
        {
          "output_type": "display_data",
          "data": {
            "text/plain": [
              "plot without title"
            ],
            "image/png": "[encoded data removed]"
          },
          "metadata": {
            "image/png": {
              "width": 420,
              "height": 420
            }
          }
        }
      ]
    },
    {
      "cell_type": "markdown",
      "source": [
        "### *Note*\n",
        "*This is as far as we will go in this course. Maximum Likelihood estimation is one of the most fundamental methods in statistics and there are a lot of incredible results. You will learn more about them in QM6.*"
      ],
      "metadata": {
        "id": "EZarU8yjqDHn"
      }
    }
  ]
}