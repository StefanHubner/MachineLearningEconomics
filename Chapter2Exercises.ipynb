{
  "nbformat": 4,
  "nbformat_minor": 0,
  "metadata": {
    "colab": {
      "provenance": [],
      "authorship_tag": "ABX9TyMGD7OITQ+a9dZvXc8UywUV",
      "include_colab_link": true
    },
    "kernelspec": {
      "name": "python3",
      "display_name": "Python 3"
    },
    "language_info": {
      "name": "python"
    }
  },
  "cells": [
    {
      "cell_type": "markdown",
      "metadata": {
        "id": "view-in-github",
        "colab_type": "text"
      },
      "source": [
        "<a href=\"https://colab.research.google.com/github/StefanHubner/MachineLearningEconomics/blob/main/Chapter2Exercises.ipynb\" target=\"_parent\"><img src=\"https://colab.research.google.com/assets/colab-badge.svg\" alt=\"Open In Colab\"/></a>"
      ]
    },
    {
      "cell_type": "markdown",
      "source": [
        "1. List comprehension"
      ],
      "metadata": {
        "id": "2QV4ezi_1_1i"
      }
    },
    {
      "cell_type": "code",
      "execution_count": 3,
      "metadata": {
        "colab": {
          "base_uri": "https://localhost:8080/"
        },
        "id": "hqzHvNAHzSu8",
        "outputId": "361fa907-947f-4bbb-a7fe-e5cb78151b90"
      },
      "outputs": [
        {
          "output_type": "execute_result",
          "data": {
            "text/plain": [
              "[1, 4, 9, 16, 25, 36, 49, 64, 81, 100]"
            ]
          },
          "metadata": {},
          "execution_count": 3
        }
      ],
      "source": [
        "[i**2 for i in range(1,11)]"
      ]
    },
    {
      "cell_type": "markdown",
      "source": [
        "2. Imperative"
      ],
      "metadata": {
        "id": "_gJ117w42DP1"
      }
    },
    {
      "cell_type": "code",
      "source": [
        "def count_characters(string):\n",
        "    char_count = {}\n",
        "    for char in string:\n",
        "        char_count[char] = char_count.get(char, 0) + 1\n",
        "    return char_count\n",
        "\n",
        "# Example usage\n",
        "text = \"hello world\"\n",
        "result = count_characters(text)\n",
        "print(result)"
      ],
      "metadata": {
        "id": "XHhZDZ3c13pb"
      },
      "execution_count": null,
      "outputs": []
    },
    {
      "cell_type": "markdown",
      "source": [
        "2. Functional\n"
      ],
      "metadata": {
        "id": "ojZguuTx15iR"
      }
    },
    {
      "cell_type": "code",
      "source": [
        "from functools import reduce\n",
        "\n",
        "def count_elements(l):\n",
        "    return reduce(lambda acc, char: {**acc, char: acc.get(char, 0) + 1}, l, {})\n",
        "\n",
        "# ** unpacks all elements of the currently accumulated list\n",
        "# they are then packed with the new element\n",
        "\n",
        "text = \"hello world\"\n",
        "print(count_elements(text))"
      ],
      "metadata": {
        "colab": {
          "base_uri": "https://localhost:8080/"
        },
        "id": "_ir8RlyA0qux",
        "outputId": "21de96c7-f22f-4d9d-a868-d64ae7c0f30e"
      },
      "execution_count": 48,
      "outputs": [
        {
          "output_type": "stream",
          "name": "stdout",
          "text": [
            "{'h': 1, 'e': 1, 'l': 3, 'o': 2, ' ': 1, 'w': 1, 'r': 1, 'd': 1}\n"
          ]
        }
      ]
    },
    {
      "cell_type": "markdown",
      "source": [
        "3. Fibonacci"
      ],
      "metadata": {
        "id": "m1P9UIuY2tKL"
      }
    },
    {
      "cell_type": "code",
      "source": [
        "def fibonacci(n):\n",
        "    fib = [0, 1]\n",
        "    for i in range(2, n):\n",
        "        fib.append(fib[i-1] + fib[i-2])\n",
        "    return (fib)\n",
        "\n",
        "fibonacci(10)"
      ],
      "metadata": {
        "colab": {
          "base_uri": "https://localhost:8080/"
        },
        "id": "-zgq1tE02vT-",
        "outputId": "1e124fd7-0c8b-432b-8861-22ce55efd13c"
      },
      "execution_count": 11,
      "outputs": [
        {
          "output_type": "execute_result",
          "data": {
            "text/plain": [
              "[0, 1, 1, 2, 3, 5, 8, 13, 21, 34]"
            ]
          },
          "metadata": {},
          "execution_count": 11
        }
      ]
    },
    {
      "cell_type": "markdown",
      "source": [
        "3. Fibonacci (recursive = functional)"
      ],
      "metadata": {
        "id": "nsCNCR0528J5"
      }
    },
    {
      "cell_type": "code",
      "source": [
        "def fibonacci(n):\n",
        "  if n == 0:\n",
        "    return 0\n",
        "  elif n == 1:\n",
        "    return 1\n",
        "  else:\n",
        "    return fibonacci(n-1) + fibonacci(n-2)\n",
        "\n",
        "[fibonacci(i) for i in range(0,10)]"
      ],
      "metadata": {
        "colab": {
          "base_uri": "https://localhost:8080/"
        },
        "id": "meeg3Ay12-r2",
        "outputId": "31730ae6-6355-432f-f235-c66114ea594f"
      },
      "execution_count": 16,
      "outputs": [
        {
          "output_type": "execute_result",
          "data": {
            "text/plain": [
              "[0, 1, 1, 2, 3, 5, 8, 13, 21, 34]"
            ]
          },
          "metadata": {},
          "execution_count": 16
        }
      ]
    },
    {
      "cell_type": "markdown",
      "source": [
        "4. element-wise addition"
      ],
      "metadata": {
        "id": "Wu-_Iq3d30Jn"
      }
    },
    {
      "cell_type": "code",
      "source": [
        "add = lambda a: a[0] + a[1] # sum works just as well\n",
        "\n",
        "def element_wise_sum(list1, list2):\n",
        "    return list(map(add, zip(list1, list2)))\n",
        "\n",
        "print(element_wise_sum([1, 2, 3, 4], [5, 6, 7, 8]))"
      ],
      "metadata": {
        "colab": {
          "base_uri": "https://localhost:8080/"
        },
        "id": "viKCScI73yI2",
        "outputId": "92cd8581-f2bd-4462-eaec-4199107fe416"
      },
      "execution_count": 26,
      "outputs": [
        {
          "output_type": "stream",
          "name": "stdout",
          "text": [
            "[6, 8, 10, 12]\n"
          ]
        }
      ]
    },
    {
      "cell_type": "markdown",
      "source": [
        "6. Squares"
      ],
      "metadata": {
        "id": "-plFIKVx5fKp"
      }
    },
    {
      "cell_type": "code",
      "source": [
        "[(x, x**2) for x in range(1,6)]"
      ],
      "metadata": {
        "colab": {
          "base_uri": "https://localhost:8080/"
        },
        "id": "E_vDfn__5fvC",
        "outputId": "82fb2342-6baa-4b99-c11e-5fef4ac2c552"
      },
      "execution_count": 28,
      "outputs": [
        {
          "output_type": "execute_result",
          "data": {
            "text/plain": [
              "[(1, 1), (2, 4), (3, 9), (4, 16), (5, 25)]"
            ]
          },
          "metadata": {},
          "execution_count": 28
        }
      ]
    },
    {
      "cell_type": "markdown",
      "source": [
        "7. Calculator"
      ],
      "metadata": {
        "id": "1ZatPzFB6zqt"
      }
    },
    {
      "cell_type": "code",
      "source": [
        "def calculator(num1, num2, operator):\n",
        "    operations = {\n",
        "        '+': lambda x, y: x + y,\n",
        "        '-': lambda x, y: x - y,\n",
        "        '*': lambda x, y: x * y,\n",
        "        '/': lambda x, y: x / y\n",
        "    }\n",
        "\n",
        "    return operations.get(operator, lambda x, y: \"Error: Invalid operator\")(num1, num2)\n",
        "\n",
        "print(calculator(6, 3, '+'))\n",
        "print(calculator(9, 5, '-'))"
      ],
      "metadata": {
        "colab": {
          "base_uri": "https://localhost:8080/"
        },
        "id": "2bIpbeDA61TG",
        "outputId": "49dd704e-52bd-4df4-bc54-f87ee3ed5678"
      },
      "execution_count": 29,
      "outputs": [
        {
          "output_type": "stream",
          "name": "stdout",
          "text": [
            "9\n",
            "4\n"
          ]
        }
      ]
    },
    {
      "cell_type": "markdown",
      "source": [
        "8. Student's Grades"
      ],
      "metadata": {
        "id": "V9q7rBPj9mX1"
      }
    },
    {
      "cell_type": "code",
      "source": [
        "class Student:\n",
        "    def __init__(self, name):\n",
        "        self.name = name\n",
        "        self.grades = []\n",
        "\n",
        "    def add_grade(self, grade):\n",
        "        self.grades.append(grade)\n",
        "\n",
        "    def get_average(self):\n",
        "        return sum(self.grades) / len(self.grades) if self.grades else None\n",
        "\n",
        "class GradeBook:\n",
        "    def __init__(self):\n",
        "        self.students = {}\n",
        "\n",
        "    def add_student(self, student):\n",
        "        if student.name not in self.students:\n",
        "            self.students[student.name] = student\n",
        "            return True\n",
        "        return False\n",
        "\n",
        "    def find_student(self, name):\n",
        "        return self.students.get(name)\n",
        "\n",
        "gb = GradeBook()\n",
        "gb.add_student(Student(\"Alice\"))\n",
        "gb.add_student(Student(\"Bob\"))\n",
        "\n",
        "alice = gb.find_student(\"Alice\")\n",
        "if alice:\n",
        "    alice.add_grade(85)\n",
        "    alice.add_grade(92)\n",
        "    print(f\"Alice's average: {alice.get_average()}\")\n",
        "\n",
        "bob = gb.find_student(\"Bob\")\n",
        "if bob:\n",
        "    bob.add_grade(78)\n",
        "    print(f\"Bob's average: {bob.get_average()}\")\n",
        "\n",
        "print(\"Students:\", list(gb.students.keys()))"
      ],
      "metadata": {
        "colab": {
          "base_uri": "https://localhost:8080/"
        },
        "id": "5KbJLMt27VX8",
        "outputId": "b19a5af7-bacf-4f41-9fba-26cd05a598d3"
      },
      "execution_count": 55,
      "outputs": [
        {
          "output_type": "stream",
          "name": "stdout",
          "text": [
            "Alice's average: 88.5\n",
            "Bob's average: 78.0\n",
            "Students: ['Alice', 'Bob']\n"
          ]
        }
      ]
    },
    {
      "cell_type": "markdown",
      "source": [
        "9. Str to Int"
      ],
      "metadata": {
        "id": "QPIguVPw_BFW"
      }
    },
    {
      "cell_type": "code",
      "source": [
        "list(map(int, [\"10\", \"89\", \"1337\"]))"
      ],
      "metadata": {
        "colab": {
          "base_uri": "https://localhost:8080/"
        },
        "id": "HXWwNj_A9xR-",
        "outputId": "5807b782-dfd8-4a75-81e2-893a6b942338"
      },
      "execution_count": 36,
      "outputs": [
        {
          "output_type": "execute_result",
          "data": {
            "text/plain": [
              "[10, 89, 1337]"
            ]
          },
          "metadata": {},
          "execution_count": 36
        }
      ]
    },
    {
      "cell_type": "markdown",
      "source": [
        "10. Filter even numbers"
      ],
      "metadata": {
        "id": "hUCo7eVL-w6O"
      }
    },
    {
      "cell_type": "code",
      "source": [
        "[i for i in range(1,21) if i % 2 == 0]"
      ],
      "metadata": {
        "colab": {
          "base_uri": "https://localhost:8080/"
        },
        "id": "RPv5cl0G-A-u",
        "outputId": "cb5ea47c-0a52-4444-f4c5-8667105ecfd6"
      },
      "execution_count": 42,
      "outputs": [
        {
          "output_type": "execute_result",
          "data": {
            "text/plain": [
              "[2, 4, 6, 8, 10, 12, 14, 16, 18, 20]"
            ]
          },
          "metadata": {},
          "execution_count": 42
        }
      ]
    },
    {
      "cell_type": "code",
      "source": [
        "list(filter(lambda x: x % 2 == 0, range(1, 21)))"
      ],
      "metadata": {
        "colab": {
          "base_uri": "https://localhost:8080/"
        },
        "id": "pNFSth8J-q9I",
        "outputId": "94033280-33a7-4130-abc2-713f23dea4e1"
      },
      "execution_count": 41,
      "outputs": [
        {
          "output_type": "execute_result",
          "data": {
            "text/plain": [
              "[2, 4, 6, 8, 10, 12, 14, 16, 18, 20]"
            ]
          },
          "metadata": {},
          "execution_count": 41
        }
      ]
    },
    {
      "cell_type": "markdown",
      "source": [
        "11. Prime number generator"
      ],
      "metadata": {
        "id": "5LtTmaP7_WQV"
      }
    },
    {
      "cell_type": "code",
      "source": [
        "def prime_generator():\n",
        "    def is_prime(n):\n",
        "        if n < 2:\n",
        "            return False\n",
        "        for i in range(2, int(n ** 0.5) + 1):\n",
        "            if n % i == 0:\n",
        "                return False\n",
        "        return True\n",
        "\n",
        "    n = 2\n",
        "    while True:\n",
        "        if is_prime(n):\n",
        "            yield n\n",
        "        n += 1\n",
        "\n",
        "# Example usage\n",
        "primes = prime_generator()\n",
        "for _ in range(10):\n",
        "    print(next(primes))"
      ],
      "metadata": {
        "colab": {
          "base_uri": "https://localhost:8080/"
        },
        "id": "3eviAMxj_YF9",
        "outputId": "2202d71a-4699-47ac-cf8d-2f67349d4a86"
      },
      "execution_count": 43,
      "outputs": [
        {
          "output_type": "stream",
          "name": "stdout",
          "text": [
            "2\n",
            "3\n",
            "5\n",
            "7\n",
            "11\n",
            "13\n",
            "17\n",
            "19\n",
            "23\n",
            "29\n"
          ]
        }
      ]
    },
    {
      "cell_type": "markdown",
      "source": [
        "14. Product"
      ],
      "metadata": {
        "id": "ladXuUGA_i-r"
      }
    },
    {
      "cell_type": "code",
      "source": [
        "def prod(l):\n",
        "  return reduce(lambda acc, i: i * acc, l, 1)\n",
        "\n",
        "prod([1,2,3,4,5])"
      ],
      "metadata": {
        "colab": {
          "base_uri": "https://localhost:8080/"
        },
        "id": "qN3EIgWB_kff",
        "outputId": "51e1298f-10e5-4a6a-d846-15833cb4185b"
      },
      "execution_count": 45,
      "outputs": [
        {
          "output_type": "execute_result",
          "data": {
            "text/plain": [
              "120"
            ]
          },
          "metadata": {},
          "execution_count": 45
        }
      ]
    },
    {
      "cell_type": "markdown",
      "source": [
        "15. Bank Account"
      ],
      "metadata": {
        "id": "IAmmS-lyBXKZ"
      }
    },
    {
      "cell_type": "code",
      "source": [
        "class BankAccount:\n",
        "    def __init__(self, balance=0):\n",
        "        self.balance = balance\n",
        "\n",
        "    def deposit(self, amount):\n",
        "        self.balance += amount\n",
        "        return self.balance\n",
        "\n",
        "    def withdraw(self, amount):\n",
        "        if self.balance >= amount:\n",
        "            self.balance -= amount\n",
        "            return self.balance\n",
        "        return \"Insufficient funds\"\n",
        "\n",
        "    def check_balance(self):\n",
        "        return self.balance\n",
        "\n",
        "# Example usage\n",
        "account = BankAccount(1000)\n",
        "print(account.check_balance())\n",
        "print(account.deposit(500))\n",
        "print(account.withdraw(200))\n",
        "print(account.withdraw(2000))\n",
        "print(account.check_balance())"
      ],
      "metadata": {
        "colab": {
          "base_uri": "https://localhost:8080/"
        },
        "id": "VHgH4zsKBXoT",
        "outputId": "ce4025e8-edc1-4944-ae93-9339f605e37f"
      },
      "execution_count": 47,
      "outputs": [
        {
          "output_type": "stream",
          "name": "stdout",
          "text": [
            "1000\n",
            "1500\n",
            "1300\n",
            "Insufficient funds\n",
            "1300\n"
          ]
        }
      ]
    },
    {
      "cell_type": "markdown",
      "source": [
        "16. Set-Function"
      ],
      "metadata": {
        "id": "qEuHe7qlCnci"
      }
    },
    {
      "cell_type": "code",
      "source": [
        "# Re-using or generalising old code/functions is always better than writing new code\n",
        "def remove_duplicates(l):\n",
        "  return list(count_elements(l).keys())\n",
        "\n",
        "remove_duplicates([1,2,3,4,4,5,5,5])"
      ],
      "metadata": {
        "colab": {
          "base_uri": "https://localhost:8080/"
        },
        "id": "9PVrWcQDB5H_",
        "outputId": "49df3b7a-f58f-4ebb-bceb-0aef3ee56960"
      },
      "execution_count": 53,
      "outputs": [
        {
          "output_type": "execute_result",
          "data": {
            "text/plain": [
              "[1, 2, 3, 4, 5]"
            ]
          },
          "metadata": {},
          "execution_count": 53
        }
      ]
    },
    {
      "cell_type": "markdown",
      "source": [
        "18. Recursive sum of digits"
      ],
      "metadata": {
        "id": "dcrptrmADDr7"
      }
    },
    {
      "cell_type": "code",
      "source": [
        "def sum_of_digits(n):\n",
        "    if n < 10:\n",
        "        return n\n",
        "    else:\n",
        "        return n % 10 + sum_of_digits(n // 10)\n",
        "\n",
        "print(sum_of_digits(123))\n",
        "print(sum_of_digits(54321))\n",
        "print(sum_of_digits(1000))"
      ],
      "metadata": {
        "colab": {
          "base_uri": "https://localhost:8080/"
        },
        "id": "HhNdkOsYDGdO",
        "outputId": "9260af9e-addd-4fea-dbaf-bf5a7dacd621"
      },
      "execution_count": 54,
      "outputs": [
        {
          "output_type": "stream",
          "name": "stdout",
          "text": [
            "6\n",
            "15\n",
            "1\n"
          ]
        }
      ]
    }
  ]
}