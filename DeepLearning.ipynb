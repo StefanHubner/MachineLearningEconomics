{
  "nbformat": 4,
  "nbformat_minor": 0,
  "metadata": {
    "colab": {
      "provenance": [],
      "authorship_tag": "ABX9TyOA/kmxyGWBMguXf9iCrp8o",
      "include_colab_link": true
    },
    "kernelspec": {
      "name": "ir",
      "display_name": "R"
    },
    "language_info": {
      "name": "R"
    }
  },
  "cells": [
    {
      "cell_type": "markdown",
      "metadata": {
        "id": "view-in-github",
        "colab_type": "text"
      },
      "source": [
        "<a href=\"https://colab.research.google.com/github/StefanHubner/MachineLearningEconomics/blob/main/DeepLearning.ipynb\" target=\"_parent\"><img src=\"https://colab.research.google.com/assets/colab-badge.svg\" alt=\"Open In Colab\"/></a>"
      ]
    },
    {
      "cell_type": "code",
      "source": [
        "Sys.setenv(\"CUDA\" = \"cpu\")\n",
        "Sys.setenv(\"TORCH_INSTALL\" = \"1\")\n",
        "install.packages(\"torch\")\n",
        "torch::install_torch()"
      ],
      "metadata": {
        "id": "U07aMAqMdX4m"
      },
      "execution_count": 17,
      "outputs": []
    },
    {
      "cell_type": "code",
      "source": [],
      "metadata": {
        "id": "d7-QuMxRbgBf"
      },
      "execution_count": 12,
      "outputs": []
    },
    {
      "cell_type": "code",
      "source": [
        "torch_eye(5)"
      ],
      "metadata": {
        "colab": {
          "base_uri": "https://localhost:8080/",
          "height": 505
        },
        "id": "islJgDU3bkCd",
        "outputId": "0d8ede08-16f3-4e72-b47b-29dbd50be74d"
      },
      "execution_count": 18,
      "outputs": [
        {
          "output_type": "error",
          "ename": "ERROR",
          "evalue": "ignored",
          "traceback": [
            "Error in (function (n, m, options) : Lantern is not loaded. Please use `install_torch()` to install additional dependencies.\nTraceback:\n",
            "1. torch_eye(5)",
            "2. do.call(.torch_eye, args)",
            "3. (function (n, m, options = list()) \n . {\n .     args <- mget(x = c(\"n\", \"m\", \"options\"))\n .     expected_types <- list(n = \"int64_t\", m = \"int64_t\", options = \"TensorOptions\")\n .     nd_args <- c(\"n\", \"m\")\n .     return_types <- list(list(\"Tensor\"))\n .     call_c_function(fun_name = \"eye\", args = args, expected_types = expected_types, \n .         nd_args = nd_args, return_types = return_types, fun_type = \"namespace\")\n . })(options = list(dtype = NULL, layout = NULL, device = NULL, \n .     requires_grad = FALSE), n = 5, m = 5)",
            "4. call_c_function(fun_name = \"eye\", args = args, expected_types = expected_types, \n .     nd_args = nd_args, return_types = return_types, fun_type = \"namespace\")",
            "5. do_call(f, args)",
            "6. do.call(fun, args)",
            "7. (function (n, m, options) \n . {\n .     .Call(`_torch_cpp_torch_namespace_eye_n_int64_t_m_int64_t`, \n .         n, m, options)\n . })(n = 5, m = 5, options = list(dtype = NULL, layout = NULL, \n .     device = NULL, requires_grad = FALSE))"
          ]
        }
      ]
    }
  ]
}