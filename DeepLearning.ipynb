{
  "nbformat": 4,
  "nbformat_minor": 0,
  "metadata": {
    "colab": {
      "provenance": [],
      "authorship_tag": "ABX9TyNr2goY6Mwl479XRIhtG07M",
      "include_colab_link": true
    },
    "kernelspec": {
      "name": "ir",
      "display_name": "R"
    },
    "language_info": {
      "name": "R"
    }
  },
  "cells": [
    {
      "cell_type": "markdown",
      "metadata": {
        "id": "view-in-github",
        "colab_type": "text"
      },
      "source": [
        "<a href=\"https://colab.research.google.com/github/StefanHubner/MachineLearningEconomics/blob/main/DeepLearning.ipynb\" target=\"_parent\"><img src=\"https://colab.research.google.com/assets/colab-badge.svg\" alt=\"Open In Colab\"/></a>"
      ]
    },
    {
      "cell_type": "code",
      "source": [
        "Sys.setenv(\"CUDA\" = \"cpu\")\n",
        "Sys.setenv(\"TORCH_INSTALL\" = \"1\")\n",
        "# Sys.setenv(\"TORCH_HOME\"=\"/tmp/libtorch/\")\n",
        "install.packages(\"torch\", reinstall = FALSE)\n",
        "torch::install_torch()"
      ],
      "metadata": {
        "colab": {
          "base_uri": "https://localhost:8080/"
        },
        "id": "U07aMAqMdX4m",
        "outputId": "5447f0f3-5dd0-4c27-f593-153b6097ff16"
      },
      "execution_count": 1,
      "outputs": [
        {
          "output_type": "stream",
          "name": "stderr",
          "text": [
            "Installing package into ‘/usr/local/lib/R/site-library’\n",
            "(as ‘lib’ is unspecified)\n",
            "\n",
            "also installing the dependencies ‘Rcpp’, ‘coro’\n",
            "\n",
            "\n"
          ]
        }
      ]
    },
    {
      "cell_type": "code",
      "source": [
        "library(torch)"
      ],
      "metadata": {
        "colab": {
          "base_uri": "https://localhost:8080/",
          "height": 52
        },
        "id": "d7-QuMxRbgBf",
        "outputId": "b4bbdc94-ab98-4631-95c6-a22fe0856610"
      },
      "execution_count": 19,
      "outputs": [
        {
          "output_type": "display_data",
          "data": {
            "text/html": [
              "<style>\n",
              ".list-inline {list-style: none; margin:0; padding: 0}\n",
              ".list-inline>li {display: inline-block}\n",
              ".list-inline>li:not(:last-child)::after {content: \"\\00b7\"; padding: 0 .5ex}\n",
              "</style>\n",
              "<ol class=list-inline><li>'lubridate'</li><li>'forcats'</li><li>'stringr'</li><li>'purrr'</li><li>'readr'</li><li>'tidyr'</li><li>'tibble'</li><li>'ggplot2'</li><li>'tidyverse'</li><li>'dplyr'</li><li>'torch'</li><li>'stats'</li><li>'graphics'</li><li>'grDevices'</li><li>'utils'</li><li>'datasets'</li><li>'methods'</li><li>'base'</li><li>'lubridate'</li><li>'forcats'</li><li>'stringr'</li><li>'purrr'</li><li>'readr'</li><li>'tidyr'</li><li>'tibble'</li><li>'ggplot2'</li><li>'tidyverse'</li><li>'dplyr'</li><li>'torch'</li><li>'stats'</li><li>'graphics'</li><li>'grDevices'</li><li>'utils'</li><li>'datasets'</li><li>'methods'</li><li>'base'</li></ol>\n"
            ],
            "text/markdown": "1. 'lubridate'\n2. 'forcats'\n3. 'stringr'\n4. 'purrr'\n5. 'readr'\n6. 'tidyr'\n7. 'tibble'\n8. 'ggplot2'\n9. 'tidyverse'\n10. 'dplyr'\n11. 'torch'\n12. 'stats'\n13. 'graphics'\n14. 'grDevices'\n15. 'utils'\n16. 'datasets'\n17. 'methods'\n18. 'base'\n19. 'lubridate'\n20. 'forcats'\n21. 'stringr'\n22. 'purrr'\n23. 'readr'\n24. 'tidyr'\n25. 'tibble'\n26. 'ggplot2'\n27. 'tidyverse'\n28. 'dplyr'\n29. 'torch'\n30. 'stats'\n31. 'graphics'\n32. 'grDevices'\n33. 'utils'\n34. 'datasets'\n35. 'methods'\n36. 'base'\n\n\n",
            "text/latex": "\\begin{enumerate*}\n\\item 'lubridate'\n\\item 'forcats'\n\\item 'stringr'\n\\item 'purrr'\n\\item 'readr'\n\\item 'tidyr'\n\\item 'tibble'\n\\item 'ggplot2'\n\\item 'tidyverse'\n\\item 'dplyr'\n\\item 'torch'\n\\item 'stats'\n\\item 'graphics'\n\\item 'grDevices'\n\\item 'utils'\n\\item 'datasets'\n\\item 'methods'\n\\item 'base'\n\\item 'lubridate'\n\\item 'forcats'\n\\item 'stringr'\n\\item 'purrr'\n\\item 'readr'\n\\item 'tidyr'\n\\item 'tibble'\n\\item 'ggplot2'\n\\item 'tidyverse'\n\\item 'dplyr'\n\\item 'torch'\n\\item 'stats'\n\\item 'graphics'\n\\item 'grDevices'\n\\item 'utils'\n\\item 'datasets'\n\\item 'methods'\n\\item 'base'\n\\end{enumerate*}\n",
            "text/plain": [
              " [1] \"lubridate\" \"forcats\"   \"stringr\"   \"purrr\"     \"readr\"     \"tidyr\"    \n",
              " [7] \"tibble\"    \"ggplot2\"   \"tidyverse\" \"dplyr\"     \"torch\"     \"stats\"    \n",
              "[13] \"graphics\"  \"grDevices\" \"utils\"     \"datasets\"  \"methods\"   \"base\"     \n",
              "[19] \"lubridate\" \"forcats\"   \"stringr\"   \"purrr\"     \"readr\"     \"tidyr\"    \n",
              "[25] \"tibble\"    \"ggplot2\"   \"tidyverse\" \"dplyr\"     \"torch\"     \"stats\"    \n",
              "[31] \"graphics\"  \"grDevices\" \"utils\"     \"datasets\"  \"methods\"   \"base\"     "
            ]
          },
          "metadata": {}
        }
      ]
    },
    {
      "cell_type": "code",
      "source": [
        "x <- torch_randn(100, 1)\n",
        "ones <- torch_ones(100, 1)\n",
        "design <- torch_cat(c(ones, x), dim = 2)\n",
        "\n",
        "beta <- torch_tensor(c(2, 3))$view(c(-1, 1))\n",
        "eps <- torch_randn(100, 1)\n",
        "\n",
        "y <- torch_mm(design, beta) + eps"
      ],
      "metadata": {
        "id": "islJgDU3bkCd"
      },
      "execution_count": 69,
      "outputs": []
    },
    {
      "cell_type": "markdown",
      "source": [],
      "metadata": {
        "id": "2JyN32YqqJwy"
      }
    },
    {
      "cell_type": "code",
      "source": [
        "ggplot() +\n",
        "  geom_point(aes(y = as.numeric(y), x = as.numeric(x)))"
      ],
      "metadata": {
        "id": "dS6xbF8tqKTZ",
        "outputId": "0c402f64-c5af-4a6d-ab09-5c8a177e80d6",
        "colab": {
          "base_uri": "https://localhost:8080/",
          "height": 437
        }
      },
      "execution_count": 68,
      "outputs": [
        {
          "output_type": "display_data",
          "data": {
            "text/plain": [
              "plot without title"
            ],
            "image/png": "[encoded data removed]"
          },
          "metadata": {
            "image/png": {
              "width": 420,
              "height": 420
            }
          }
        }
      ]
    }
  ]
}