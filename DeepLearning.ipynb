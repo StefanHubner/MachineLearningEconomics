{
  "nbformat": 4,
  "nbformat_minor": 0,
  "metadata": {
    "colab": {
      "provenance": [],
      "authorship_tag": "ABX9TyOW5oDGrPvDrqDHDQbVnOvj",
      "include_colab_link": true
    },
    "kernelspec": {
      "name": "ir",
      "display_name": "R"
    },
    "language_info": {
      "name": "R"
    }
  },
  "cells": [
    {
      "cell_type": "markdown",
      "metadata": {
        "id": "view-in-github",
        "colab_type": "text"
      },
      "source": [
        "<a href=\"https://colab.research.google.com/github/StefanHubner/MachineLearningEconomics/blob/main/DeepLearning.ipynb\" target=\"_parent\"><img src=\"https://colab.research.google.com/assets/colab-badge.svg\" alt=\"Open In Colab\"/></a>"
      ]
    },
    {
      "cell_type": "code",
      "execution_count": null,
      "metadata": {
        "id": "hduriGHuUdmO",
        "colab": {
          "base_uri": "https://localhost:8080/"
        },
        "outputId": "b3b7c292-bdab-4419-ecf5-2e17179c9ce6"
      },
      "outputs": [
        {
          "output_type": "stream",
          "name": "stderr",
          "text": [
            "Installing package into ‘/usr/local/lib/R/site-library’\n",
            "(as ‘lib’ is unspecified)\n",
            "\n",
            "also installing the dependencies ‘Rcpp’, ‘coro’\n",
            "\n",
            "\n"
          ]
        }
      ],
      "source": [
        "Sys.setenv(\"CUDA\" = \"cpu\")\n",
        "Sys.setenv(\"TORCH_INSTALL\" = \"1\")\n",
        "install.packages(\"torch\", reinstall = FALSE)\n",
        "torch::install_torch()"
      ]
    },
    {
      "cell_type": "code",
      "source": [
        "library(torch)"
      ],
      "metadata": {
        "id": "BfsBNh2CIt48"
      },
      "execution_count": null,
      "outputs": []
    },
    {
      "cell_type": "code",
      "source": [
        "x <- torch_randn(100, 1)\n",
        "ones <- torch_ones(100, 1)\n",
        "design <- torch_cat(c(ones, x), dim = 2)\n",
        "\n",
        "beta <- torch_tensor(c(2, 3))$view(c(-1, 1))\n",
        "eps <- torch_randn(100, 1)\n",
        "\n",
        "y <- torch_mm(design, beta) + eps"
      ],
      "metadata": {
        "id": "-g5Wkg5ZIsjA"
      },
      "execution_count": null,
      "outputs": []
    },
    {
      "cell_type": "code",
      "source": [
        "ggplot() +\n",
        "  geom_point(aes(y = as.numeric(y), x = as.numeric(x)))"
      ],
      "metadata": {
        "id": "NLYVEeBFIwj8"
      },
      "execution_count": null,
      "outputs": []
    }
  ]
}